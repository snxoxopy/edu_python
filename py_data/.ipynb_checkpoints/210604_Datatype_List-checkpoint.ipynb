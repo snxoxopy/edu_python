{
 "cells": [
  {
   "cell_type": "markdown",
   "id": "2ee0f33a",
   "metadata": {},
   "source": [
    "# 선형 데이터 처리: List"
   ]
  },
  {
   "cell_type": "code",
   "execution_count": 1,
   "id": "f4400634",
   "metadata": {},
   "outputs": [],
   "source": [
    "a = [] #Memory에 할당은 되어 있지만 값은 없는 상태"
   ]
  },
  {
   "cell_type": "code",
   "execution_count": 2,
   "id": "18848c45",
   "metadata": {},
   "outputs": [],
   "source": [
    "b=[1,2,3]"
   ]
  },
  {
   "cell_type": "code",
   "execution_count": 3,
   "id": "cda06904",
   "metadata": {},
   "outputs": [],
   "source": [
    "c=['life','is','too','short']"
   ]
  },
  {
   "cell_type": "code",
   "execution_count": 4,
   "id": "b808c92d",
   "metadata": {},
   "outputs": [],
   "source": [
    "d=[1,2,'life','is']"
   ]
  },
  {
   "cell_type": "code",
   "execution_count": 5,
   "id": "ab4a2c0f",
   "metadata": {},
   "outputs": [],
   "source": [
    "e=[1,2,['Life','is']]"
   ]
  },
  {
   "cell_type": "code",
   "execution_count": 7,
   "id": "5d5ecd1a",
   "metadata": {},
   "outputs": [
    {
     "name": "stdout",
     "output_type": "stream",
     "text": [
      "Life\n"
     ]
    }
   ],
   "source": [
    "print(e[2][0])"
   ]
  },
  {
   "cell_type": "code",
   "execution_count": 9,
   "id": "bf2e1fad",
   "metadata": {},
   "outputs": [
    {
     "data": {
      "text/plain": [
       "['Life', 'is']"
      ]
     },
     "execution_count": 9,
     "metadata": {},
     "output_type": "execute_result"
    }
   ],
   "source": [
    "e[-1]"
   ]
  },
  {
   "cell_type": "code",
   "execution_count": 10,
   "id": "101e2cad",
   "metadata": {},
   "outputs": [
    {
     "data": {
      "text/plain": [
       "'Life'"
      ]
     },
     "execution_count": 10,
     "metadata": {},
     "output_type": "execute_result"
    }
   ],
   "source": [
    "e[-1][0]"
   ]
  },
  {
   "cell_type": "markdown",
   "id": "1c4d1323",
   "metadata": {},
   "source": [
    "# e의 memory\n",
    "|111|주소값&123| #a  \n",
    "|...|..........|  \n",
    "|123|1|  \n",
    "|124|2|  \n",
    "|125|&300|  \n",
    "|...|..........|  \n",
    "|300|'Life'|  \n",
    "|301|'is'|  "
   ]
  },
  {
   "cell_type": "code",
   "execution_count": 13,
   "id": "cee8a008",
   "metadata": {},
   "outputs": [],
   "source": [
    "f=[1, 2, ['a', 'b', ['Life', 'is']]]"
   ]
  },
  {
   "cell_type": "code",
   "execution_count": 15,
   "id": "0e3f1344",
   "metadata": {},
   "outputs": [
    {
     "data": {
      "text/plain": [
       "[1, 2]"
      ]
     },
     "execution_count": 15,
     "metadata": {},
     "output_type": "execute_result"
    }
   ],
   "source": [
    "f[0:2]"
   ]
  },
  {
   "cell_type": "code",
   "execution_count": 16,
   "id": "1076d939",
   "metadata": {},
   "outputs": [
    {
     "data": {
      "text/plain": [
       "[1, 2, ['a', 'b', ['Life', 'is']]]"
      ]
     },
     "execution_count": 16,
     "metadata": {},
     "output_type": "execute_result"
    }
   ],
   "source": [
    "f[0:3]"
   ]
  },
  {
   "cell_type": "code",
   "execution_count": 20,
   "id": "de0d853d",
   "metadata": {},
   "outputs": [
    {
     "data": {
      "text/plain": [
       "['a', 'b']"
      ]
     },
     "execution_count": 20,
     "metadata": {},
     "output_type": "execute_result"
    }
   ],
   "source": [
    "f[2][:2]"
   ]
  },
  {
   "cell_type": "code",
   "execution_count": 23,
   "id": "3df9a46c",
   "metadata": {},
   "outputs": [
    {
     "data": {
      "text/plain": [
       "['a', 'b', ['Life', 'is']]"
      ]
     },
     "execution_count": 23,
     "metadata": {},
     "output_type": "execute_result"
    }
   ],
   "source": [
    "f[2]"
   ]
  },
  {
   "cell_type": "code",
   "execution_count": 24,
   "id": "e7074bd7",
   "metadata": {},
   "outputs": [
    {
     "data": {
      "text/plain": [
       "['Life', 'is']"
      ]
     },
     "execution_count": 24,
     "metadata": {},
     "output_type": "execute_result"
    }
   ],
   "source": [
    "f[2][2]"
   ]
  },
  {
   "cell_type": "code",
   "execution_count": 25,
   "id": "e6a4bbbd",
   "metadata": {},
   "outputs": [
    {
     "data": {
      "text/plain": [
       "['Life']"
      ]
     },
     "execution_count": 25,
     "metadata": {},
     "output_type": "execute_result"
    }
   ],
   "source": [
    "f[2][2][:1]"
   ]
  },
  {
   "cell_type": "markdown",
   "id": "6464d452",
   "metadata": {},
   "source": [
    "List 연산하기"
   ]
  },
  {
   "cell_type": "code",
   "execution_count": 27,
   "id": "91200ad1",
   "metadata": {},
   "outputs": [],
   "source": [
    "g = [1,2,3]*3"
   ]
  },
  {
   "cell_type": "code",
   "execution_count": 28,
   "id": "d99fa28a",
   "metadata": {},
   "outputs": [
    {
     "name": "stdout",
     "output_type": "stream",
     "text": [
      "[1, 2, 3, 1, 2, 3, 1, 2, 3]\n"
     ]
    }
   ],
   "source": [
    "print(g)"
   ]
  },
  {
   "cell_type": "code",
   "execution_count": 29,
   "id": "92fc1870",
   "metadata": {},
   "outputs": [],
   "source": [
    "h = [1,2,3]"
   ]
  },
  {
   "cell_type": "code",
   "execution_count": 30,
   "id": "0f18c392",
   "metadata": {},
   "outputs": [
    {
     "ename": "TypeError",
     "evalue": "unsupported operand type(s) for +: 'int' and 'str'",
     "output_type": "error",
     "traceback": [
      "\u001b[1;31m---------------------------------------------------------------------------\u001b[0m",
      "\u001b[1;31mTypeError\u001b[0m                                 Traceback (most recent call last)",
      "\u001b[1;32m<ipython-input-30-70916479ab18>\u001b[0m in \u001b[0;36m<module>\u001b[1;34m\u001b[0m\n\u001b[1;32m----> 1\u001b[1;33m \u001b[0mh\u001b[0m\u001b[1;33m[\u001b[0m\u001b[1;36m2\u001b[0m\u001b[1;33m]\u001b[0m \u001b[1;33m+\u001b[0m \u001b[1;34m'hi'\u001b[0m\u001b[1;33m\u001b[0m\u001b[1;33m\u001b[0m\u001b[0m\n\u001b[0m",
      "\u001b[1;31mTypeError\u001b[0m: unsupported operand type(s) for +: 'int' and 'str'"
     ]
    }
   ],
   "source": [
    "h[2] + 'hi'"
   ]
  },
  {
   "cell_type": "markdown",
   "id": "1ddf3a07",
   "metadata": {},
   "source": [
    "문자열과 정수는 서로 더하기 연산을 할 수 없다."
   ]
  },
  {
   "cell_type": "code",
   "execution_count": 31,
   "id": "69a02916",
   "metadata": {},
   "outputs": [
    {
     "data": {
      "text/plain": [
       "'3hi'"
      ]
     },
     "execution_count": 31,
     "metadata": {},
     "output_type": "execute_result"
    }
   ],
   "source": [
    "str(h[2]) + 'hi'"
   ]
  },
  {
   "cell_type": "code",
   "execution_count": 32,
   "id": "fdb05ccc",
   "metadata": {},
   "outputs": [],
   "source": [
    "i = [1,2,3]"
   ]
  },
  {
   "cell_type": "code",
   "execution_count": 33,
   "id": "7c48dcc4",
   "metadata": {},
   "outputs": [],
   "source": [
    "del i[1]"
   ]
  },
  {
   "cell_type": "code",
   "execution_count": 34,
   "id": "544bd976",
   "metadata": {},
   "outputs": [
    {
     "data": {
      "text/plain": [
       "[1, 3]"
      ]
     },
     "execution_count": 34,
     "metadata": {},
     "output_type": "execute_result"
    }
   ],
   "source": [
    "i"
   ]
  },
  {
   "cell_type": "code",
   "execution_count": 35,
   "id": "dde1af6f",
   "metadata": {},
   "outputs": [],
   "source": [
    "j = [1,2,3,4,5]"
   ]
  },
  {
   "cell_type": "code",
   "execution_count": 37,
   "id": "3f55ea80",
   "metadata": {},
   "outputs": [],
   "source": [
    "del j[2:]"
   ]
  },
  {
   "cell_type": "code",
   "execution_count": 38,
   "id": "03ca5df6",
   "metadata": {},
   "outputs": [
    {
     "data": {
      "text/plain": [
       "[1, 2]"
      ]
     },
     "execution_count": 38,
     "metadata": {},
     "output_type": "execute_result"
    }
   ],
   "source": [
    "j"
   ]
  },
  {
   "cell_type": "code",
   "execution_count": 39,
   "id": "a205d75e",
   "metadata": {},
   "outputs": [],
   "source": [
    "ans = i + j"
   ]
  },
  {
   "cell_type": "code",
   "execution_count": 40,
   "id": "3992be52",
   "metadata": {},
   "outputs": [
    {
     "data": {
      "text/plain": [
       "[1, 3, 1, 2]"
      ]
     },
     "execution_count": 40,
     "metadata": {},
     "output_type": "execute_result"
    }
   ],
   "source": [
    "ans"
   ]
  },
  {
   "cell_type": "code",
   "execution_count": 47,
   "id": "57265ae3",
   "metadata": {},
   "outputs": [],
   "source": [
    "ans.append(4)"
   ]
  },
  {
   "cell_type": "code",
   "execution_count": 48,
   "id": "b2eb5e56",
   "metadata": {},
   "outputs": [
    {
     "data": {
      "text/plain": [
       "[1, 3, 1, 2, 4]"
      ]
     },
     "execution_count": 48,
     "metadata": {},
     "output_type": "execute_result"
    }
   ],
   "source": [
    "ans"
   ]
  },
  {
   "cell_type": "code",
   "execution_count": 50,
   "id": "0b0df0d7",
   "metadata": {},
   "outputs": [],
   "source": [
    "ans.append([5,6])"
   ]
  },
  {
   "cell_type": "code",
   "execution_count": 51,
   "id": "e9e07e1e",
   "metadata": {},
   "outputs": [
    {
     "data": {
      "text/plain": [
       "[1, 3, 1, 2, 4, [5, 6]]"
      ]
     },
     "execution_count": 51,
     "metadata": {},
     "output_type": "execute_result"
    }
   ],
   "source": [
    "ans"
   ]
  },
  {
   "cell_type": "code",
   "execution_count": 52,
   "id": "28fcdffa",
   "metadata": {},
   "outputs": [
    {
     "ename": "TypeError",
     "evalue": "'<' not supported between instances of 'list' and 'int'",
     "output_type": "error",
     "traceback": [
      "\u001b[1;31m---------------------------------------------------------------------------\u001b[0m",
      "\u001b[1;31mTypeError\u001b[0m                                 Traceback (most recent call last)",
      "\u001b[1;32m<ipython-input-52-c17b2e7ab59f>\u001b[0m in \u001b[0;36m<module>\u001b[1;34m\u001b[0m\n\u001b[1;32m----> 1\u001b[1;33m \u001b[0mans\u001b[0m\u001b[1;33m.\u001b[0m\u001b[0msort\u001b[0m\u001b[1;33m(\u001b[0m\u001b[1;33m)\u001b[0m\u001b[1;33m\u001b[0m\u001b[1;33m\u001b[0m\u001b[0m\n\u001b[0m",
      "\u001b[1;31mTypeError\u001b[0m: '<' not supported between instances of 'list' and 'int'"
     ]
    }
   ],
   "source": [
    "ans.sort()"
   ]
  },
  {
   "cell_type": "code",
   "execution_count": 53,
   "id": "2a26c407",
   "metadata": {},
   "outputs": [],
   "source": [
    "g.sort()"
   ]
  },
  {
   "cell_type": "code",
   "execution_count": 54,
   "id": "42046a4a",
   "metadata": {},
   "outputs": [
    {
     "data": {
      "text/plain": [
       "[1, 1, 1, 2, 2, 2, 3, 3, 3]"
      ]
     },
     "execution_count": 54,
     "metadata": {},
     "output_type": "execute_result"
    }
   ],
   "source": [
    "g"
   ]
  },
  {
   "cell_type": "code",
   "execution_count": 55,
   "id": "d762385c",
   "metadata": {},
   "outputs": [],
   "source": [
    "k = [\"abc\",\"jeju\",\"coke\"]"
   ]
  },
  {
   "cell_type": "code",
   "execution_count": 56,
   "id": "206e4d05",
   "metadata": {},
   "outputs": [],
   "source": [
    "k.sort()"
   ]
  },
  {
   "cell_type": "code",
   "execution_count": 57,
   "id": "c0208f8f",
   "metadata": {},
   "outputs": [
    {
     "data": {
      "text/plain": [
       "['abc', 'coke', 'jeju']"
      ]
     },
     "execution_count": 57,
     "metadata": {},
     "output_type": "execute_result"
    }
   ],
   "source": [
    "k"
   ]
  },
  {
   "cell_type": "code",
   "execution_count": 59,
   "id": "52d86025",
   "metadata": {},
   "outputs": [
    {
     "data": {
      "text/plain": [
       "0"
      ]
     },
     "execution_count": 59,
     "metadata": {},
     "output_type": "execute_result"
    }
   ],
   "source": [
    "k.index('abc')"
   ]
  },
  {
   "cell_type": "code",
   "execution_count": 60,
   "id": "b02249dd",
   "metadata": {},
   "outputs": [
    {
     "data": {
      "text/plain": [
       "0"
      ]
     },
     "execution_count": 60,
     "metadata": {},
     "output_type": "execute_result"
    }
   ],
   "source": [
    "g.index(1)"
   ]
  },
  {
   "cell_type": "code",
   "execution_count": 64,
   "id": "a3e186c5",
   "metadata": {},
   "outputs": [],
   "source": [
    "g.insert(7,3)"
   ]
  },
  {
   "cell_type": "code",
   "execution_count": 65,
   "id": "832ca755",
   "metadata": {},
   "outputs": [
    {
     "data": {
      "text/plain": [
       "[1, 1, 1, 2, 2, 2, 3, 3, 3, 3]"
      ]
     },
     "execution_count": 65,
     "metadata": {},
     "output_type": "execute_result"
    }
   ],
   "source": [
    "g"
   ]
  },
  {
   "cell_type": "code",
   "execution_count": 66,
   "id": "637927af",
   "metadata": {},
   "outputs": [],
   "source": [
    "k.insert(3,3)"
   ]
  },
  {
   "cell_type": "code",
   "execution_count": 67,
   "id": "1b91aab8",
   "metadata": {},
   "outputs": [
    {
     "data": {
      "text/plain": [
       "['abc', 'coke', 'jeju', 3]"
      ]
     },
     "execution_count": 67,
     "metadata": {},
     "output_type": "execute_result"
    }
   ],
   "source": [
    "k"
   ]
  },
  {
   "cell_type": "code",
   "execution_count": 68,
   "id": "8ba27bf4",
   "metadata": {},
   "outputs": [
    {
     "data": {
      "text/plain": [
       "3"
      ]
     },
     "execution_count": 68,
     "metadata": {},
     "output_type": "execute_result"
    }
   ],
   "source": [
    "k.index(3)"
   ]
  },
  {
   "cell_type": "code",
   "execution_count": null,
   "id": "86ed8cf8",
   "metadata": {},
   "outputs": [],
   "source": []
  }
 ],
 "metadata": {
  "kernelspec": {
   "display_name": "Python 3",
   "language": "python",
   "name": "python3"
  },
  "language_info": {
   "codemirror_mode": {
    "name": "ipython",
    "version": 3
   },
   "file_extension": ".py",
   "mimetype": "text/x-python",
   "name": "python",
   "nbconvert_exporter": "python",
   "pygments_lexer": "ipython3",
   "version": "3.8.8"
  }
 },
 "nbformat": 4,
 "nbformat_minor": 5
}
