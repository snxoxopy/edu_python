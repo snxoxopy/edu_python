{
 "cells": [
  {
   "cell_type": "markdown",
   "id": "bd3f59ba",
   "metadata": {},
   "source": [
    "Tuple로 변수 만들기"
   ]
  },
  {
   "cell_type": "code",
   "execution_count": 1,
   "id": "e4b10c97",
   "metadata": {},
   "outputs": [],
   "source": [
    "a, b = ('python','life')"
   ]
  },
  {
   "cell_type": "code",
   "execution_count": 2,
   "id": "3706f527",
   "metadata": {},
   "outputs": [],
   "source": [
    "(a,b) = 'python', 'life'"
   ]
  },
  {
   "cell_type": "markdown",
   "id": "6ff3c441",
   "metadata": {},
   "source": [
    "list로 변수 만들기(권장하지 않음, 자주 수정해야하기 때문에)"
   ]
  },
  {
   "cell_type": "code",
   "execution_count": 4,
   "id": "f77eb84e",
   "metadata": {},
   "outputs": [],
   "source": [
    "[a,b] = ['python', 'life']"
   ]
  }
 ],
 "metadata": {
  "kernelspec": {
   "display_name": "Python 3",
   "language": "python",
   "name": "python3"
  },
  "language_info": {
   "codemirror_mode": {
    "name": "ipython",
    "version": 3
   },
   "file_extension": ".py",
   "mimetype": "text/x-python",
   "name": "python",
   "nbconvert_exporter": "python",
   "pygments_lexer": "ipython3",
   "version": "3.8.8"
  }
 },
 "nbformat": 4,
 "nbformat_minor": 5
}
