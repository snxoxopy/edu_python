{
 "cells": [
  {
   "cell_type": "code",
   "execution_count": 3,
   "id": "be36a34b",
   "metadata": {},
   "outputs": [],
   "source": [
    "pocket = ['paper', 'handphone']"
   ]
  },
  {
   "cell_type": "code",
   "execution_count": 4,
   "id": "c8bb0867",
   "metadata": {},
   "outputs": [],
   "source": [
    "card=True"
   ]
  },
  {
   "cell_type": "code",
   "execution_count": 5,
   "id": "c17475b0",
   "metadata": {},
   "outputs": [
    {
     "name": "stdout",
     "output_type": "stream",
     "text": [
      "택시\n"
     ]
    }
   ],
   "source": [
    "if 'money' in pocket:\n",
    "    print(\"택시\")\n",
    "else:\n",
    "    if card:\n",
    "        print(\"택시\")\n",
    "    else:\n",
    "        print(\"걷기\")"
   ]
  },
  {
   "cell_type": "code",
   "execution_count": 6,
   "id": "0162d5b9",
   "metadata": {},
   "outputs": [
    {
     "name": "stdout",
     "output_type": "stream",
     "text": [
      "택시\n"
     ]
    }
   ],
   "source": [
    "if 'money' in pocket:\n",
    "    print(\"택시\")\n",
    "elif card:\n",
    "    print(\"택시\")\n",
    "else:\n",
    "    print(\"걷기\")"
   ]
  },
  {
   "cell_type": "markdown",
   "id": "e9cc9bad",
   "metadata": {},
   "source": [
    "python은 if 내부를 비워둘 수 없다."
   ]
  },
  {
   "cell_type": "code",
   "execution_count": null,
   "id": "76342068",
   "metadata": {},
   "outputs": [],
   "source": [
    "if 'money'in pocket: pass\n",
    "else: prnit(\"카드\")"
   ]
  }
 ],
 "metadata": {
  "kernelspec": {
   "display_name": "Python 3",
   "language": "python",
   "name": "python3"
  },
  "language_info": {
   "codemirror_mode": {
    "name": "ipython",
    "version": 3
   },
   "file_extension": ".py",
   "mimetype": "text/x-python",
   "name": "python",
   "nbconvert_exporter": "python",
   "pygments_lexer": "ipython3",
   "version": "3.8.8"
  }
 },
 "nbformat": 4,
 "nbformat_minor": 5
}
