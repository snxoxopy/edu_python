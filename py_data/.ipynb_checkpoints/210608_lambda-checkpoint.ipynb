{
 "cells": [
  {
   "cell_type": "code",
   "execution_count": 1,
   "id": "9c60dcd3",
   "metadata": {},
   "outputs": [
    {
     "name": "stdout",
     "output_type": "stream",
     "text": [
      "7\n"
     ]
    }
   ],
   "source": [
    "add = lambda a, b: a+b\n",
    "result = add(3, 4)\n",
    "print(result)"
   ]
  },
  {
   "cell_type": "code",
   "execution_count": 2,
   "id": "773c4243",
   "metadata": {},
   "outputs": [
    {
     "name": "stdout",
     "output_type": "stream",
     "text": [
      "15\n"
     ]
    }
   ],
   "source": [
    "ex_lambda = lambda c, d: c*d\n",
    "result = ex_lambda(3,5)\n",
    "print(result)"
   ]
  },
  {
   "cell_type": "markdown",
   "id": "036dbbe4",
   "metadata": {},
   "source": [
    "변수로 할당하지 않으면, 사용 후 버림"
   ]
  },
  {
   "cell_type": "code",
   "execution_count": 14,
   "id": "e60fe639",
   "metadata": {},
   "outputs": [
    {
     "data": {
      "text/plain": [
       "-1"
      ]
     },
     "execution_count": 14,
     "metadata": {},
     "output_type": "execute_result"
    }
   ],
   "source": [
    "a = 'a.jpg'\n",
    "a.find('.jpn')"
   ]
  },
  {
   "cell_type": "code",
   "execution_count": 10,
   "id": "d3605f07",
   "metadata": {},
   "outputs": [
    {
     "data": {
      "text/plain": [
       "2"
      ]
     },
     "execution_count": 10,
     "metadata": {},
     "output_type": "execute_result"
    }
   ],
   "source": [
    "files = ['font', '1.png', '10.jpg', '11.gif', '2.jpg', '3.png', 'table.xslx', 'spec.docx']\n",
    "# def find_img(files):\n",
    "#     for fullname in files:\n",
    "#         png = fullname.find('png')\n",
    "#         \n",
    "list(lambda files: files != -1, files.find('jpg'))\n",
    "            \n",
    "        \n",
    "        \n",
    "\n"
   ]
  },
  {
   "cell_type": "code",
   "execution_count": null,
   "id": "d3714550",
   "metadata": {},
   "outputs": [],
   "source": [
    "files = ['font', '1.png', '10.jpg', '11.gif', '2.jpg', '3.png', 'table.xslx', 'spec.docx']\n",
    "\n",
    "filter(find_jpg_png, files)\n",
    "\n",
    "def find_jpg_png(files):\n",
    "    return find('.png')\n",
    "lambda files: a = find('.png')"
   ]
  }
 ],
 "metadata": {
  "kernelspec": {
   "display_name": "Python 3",
   "language": "python",
   "name": "python3"
  },
  "language_info": {
   "codemirror_mode": {
    "name": "ipython",
    "version": 3
   },
   "file_extension": ".py",
   "mimetype": "text/x-python",
   "name": "python",
   "nbconvert_exporter": "python",
   "pygments_lexer": "ipython3",
   "version": "3.8.8"
  }
 },
 "nbformat": 4,
 "nbformat_minor": 5
}
