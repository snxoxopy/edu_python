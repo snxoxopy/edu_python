{
 "cells": [
  {
   "cell_type": "markdown",
   "id": "815cfc88",
   "metadata": {},
   "source": [
    "# 클래스의 설계"
   ]
  },
  {
   "cell_type": "markdown",
   "id": "5488d98c",
   "metadata": {},
   "source": [
    "1. display(): 모양출력\n",
    "    - redDuck 빨간색, MallardDuck: 파란색\n",
    "2. move(): 걷기\n",
    "3. sound(): 소리내기"
   ]
  },
  {
   "cell_type": "code",
   "execution_count": 81,
   "id": "04ec8236",
   "metadata": {},
   "outputs": [],
   "source": [
    "# Super Class <-> Sub Class (Top --> Down)\n",
    "# python, c++: 다중부모 가능\n",
    "import random\n",
    "import turtle\n",
    "\n",
    "class Duck:\n",
    "    \n",
    "    def __init__(self):\n",
    "        self.x = random.randint(-400, 400)\n",
    "        self.y = random.randint(-400, 400)\n",
    "        self.size = 30\n",
    "        self.__turtle = None #NULL\n",
    "        self.c = random.randhex()\n",
    "        \n",
    "        \n",
    "        \n",
    "    def display(self, turtle):\n",
    "        print(self.x,',',self.y,',', self.size)\n",
    "        self.__turtle = turtle\n",
    "        \n",
    "        self.__turtle.color()\n",
    "        self.__turtle.begin_fill()\n",
    "        self.__turtle.circle(self.size) # 그리기 확인\n",
    "        #self.__turtle.goto(self.x, self.y)\n",
    "        #self.__turtle.end_fill()\n",
    "        self.__turtle.penup()\n",
    "        self.__turtle.setpos(self.x, self.y)\n",
    "        self.__turtle.end_fill()\n",
    "        self.__turtle.pendown()\n",
    "        \n",
    "        \n",
    "    def screen_reset(self):\n",
    "        self.__turtle.reset()\n",
    "        "
   ]
  },
  {
   "cell_type": "code",
   "execution_count": 80,
   "id": "8ea0b33b",
   "metadata": {},
   "outputs": [
    {
     "name": "stdout",
     "output_type": "stream",
     "text": [
      "257 , -155 , 30\n"
     ]
    },
    {
     "ename": "TypeError",
     "evalue": "object of type 'int' has no len()",
     "output_type": "error",
     "traceback": [
      "\u001b[1;31m---------------------------------------------------------------------------\u001b[0m",
      "\u001b[1;31mTypeError\u001b[0m                                 Traceback (most recent call last)",
      "\u001b[1;32m<ipython-input-80-4357e2f9df20>\u001b[0m in \u001b[0;36m<module>\u001b[1;34m\u001b[0m\n\u001b[0;32m      1\u001b[0m \u001b[0md\u001b[0m \u001b[1;33m=\u001b[0m \u001b[0mDuck\u001b[0m\u001b[1;33m(\u001b[0m\u001b[1;33m)\u001b[0m\u001b[1;33m\u001b[0m\u001b[1;33m\u001b[0m\u001b[0m\n\u001b[1;32m----> 2\u001b[1;33m \u001b[0md\u001b[0m\u001b[1;33m.\u001b[0m\u001b[0mdisplay\u001b[0m\u001b[1;33m(\u001b[0m\u001b[0mturtle\u001b[0m\u001b[1;33m)\u001b[0m \u001b[1;31m#module 정보\u001b[0m\u001b[1;33m\u001b[0m\u001b[1;33m\u001b[0m\u001b[0m\n\u001b[0m\u001b[0;32m      3\u001b[0m \u001b[0md\u001b[0m\u001b[1;33m.\u001b[0m\u001b[0mscreen_reset\u001b[0m\u001b[1;33m(\u001b[0m\u001b[1;33m)\u001b[0m\u001b[1;33m\u001b[0m\u001b[1;33m\u001b[0m\u001b[0m\n",
      "\u001b[1;32m<ipython-input-79-c143c30abb66>\u001b[0m in \u001b[0;36mdisplay\u001b[1;34m(self, turtle)\u001b[0m\n\u001b[0;32m     18\u001b[0m         \u001b[0mself\u001b[0m\u001b[1;33m.\u001b[0m\u001b[0m__turtle\u001b[0m \u001b[1;33m=\u001b[0m \u001b[0mturtle\u001b[0m\u001b[1;33m\u001b[0m\u001b[1;33m\u001b[0m\u001b[0m\n\u001b[0;32m     19\u001b[0m \u001b[1;33m\u001b[0m\u001b[0m\n\u001b[1;32m---> 20\u001b[1;33m         \u001b[0mself\u001b[0m\u001b[1;33m.\u001b[0m\u001b[0m__turtle\u001b[0m\u001b[1;33m.\u001b[0m\u001b[0mcolor\u001b[0m\u001b[1;33m(\u001b[0m\u001b[0mself\u001b[0m\u001b[1;33m.\u001b[0m\u001b[0mc\u001b[0m\u001b[1;33m)\u001b[0m\u001b[1;33m\u001b[0m\u001b[1;33m\u001b[0m\u001b[0m\n\u001b[0m\u001b[0;32m     21\u001b[0m         \u001b[0mself\u001b[0m\u001b[1;33m.\u001b[0m\u001b[0m__turtle\u001b[0m\u001b[1;33m.\u001b[0m\u001b[0mbegin_fill\u001b[0m\u001b[1;33m(\u001b[0m\u001b[1;33m)\u001b[0m\u001b[1;33m\u001b[0m\u001b[1;33m\u001b[0m\u001b[0m\n\u001b[0;32m     22\u001b[0m         \u001b[0mself\u001b[0m\u001b[1;33m.\u001b[0m\u001b[0m__turtle\u001b[0m\u001b[1;33m.\u001b[0m\u001b[0mcircle\u001b[0m\u001b[1;33m(\u001b[0m\u001b[0mself\u001b[0m\u001b[1;33m.\u001b[0m\u001b[0msize\u001b[0m\u001b[1;33m)\u001b[0m \u001b[1;31m# 그리기 확인\u001b[0m\u001b[1;33m\u001b[0m\u001b[1;33m\u001b[0m\u001b[0m\n",
      "\u001b[1;32mC:\\python_suzin\\anaconda3\\lib\\turtle.py\u001b[0m in \u001b[0;36mcolor\u001b[1;34m(*args)\u001b[0m\n",
      "\u001b[1;32mC:\\python_suzin\\anaconda3\\lib\\turtle.py\u001b[0m in \u001b[0;36mcolor\u001b[1;34m(self, *args)\u001b[0m\n\u001b[0;32m   2215\u001b[0m             \u001b[1;32melif\u001b[0m \u001b[0ml\u001b[0m \u001b[1;33m==\u001b[0m \u001b[1;36m3\u001b[0m\u001b[1;33m:\u001b[0m\u001b[1;33m\u001b[0m\u001b[1;33m\u001b[0m\u001b[0m\n\u001b[0;32m   2216\u001b[0m                 \u001b[0mpcolor\u001b[0m \u001b[1;33m=\u001b[0m \u001b[0mfcolor\u001b[0m \u001b[1;33m=\u001b[0m \u001b[0margs\u001b[0m\u001b[1;33m\u001b[0m\u001b[1;33m\u001b[0m\u001b[0m\n\u001b[1;32m-> 2217\u001b[1;33m             \u001b[0mpcolor\u001b[0m \u001b[1;33m=\u001b[0m \u001b[0mself\u001b[0m\u001b[1;33m.\u001b[0m\u001b[0m_colorstr\u001b[0m\u001b[1;33m(\u001b[0m\u001b[0mpcolor\u001b[0m\u001b[1;33m)\u001b[0m\u001b[1;33m\u001b[0m\u001b[1;33m\u001b[0m\u001b[0m\n\u001b[0m\u001b[0;32m   2218\u001b[0m             \u001b[0mfcolor\u001b[0m \u001b[1;33m=\u001b[0m \u001b[0mself\u001b[0m\u001b[1;33m.\u001b[0m\u001b[0m_colorstr\u001b[0m\u001b[1;33m(\u001b[0m\u001b[0mfcolor\u001b[0m\u001b[1;33m)\u001b[0m\u001b[1;33m\u001b[0m\u001b[1;33m\u001b[0m\u001b[0m\n\u001b[0;32m   2219\u001b[0m             \u001b[0mself\u001b[0m\u001b[1;33m.\u001b[0m\u001b[0mpen\u001b[0m\u001b[1;33m(\u001b[0m\u001b[0mpencolor\u001b[0m\u001b[1;33m=\u001b[0m\u001b[0mpcolor\u001b[0m\u001b[1;33m,\u001b[0m \u001b[0mfillcolor\u001b[0m\u001b[1;33m=\u001b[0m\u001b[0mfcolor\u001b[0m\u001b[1;33m)\u001b[0m\u001b[1;33m\u001b[0m\u001b[1;33m\u001b[0m\u001b[0m\n",
      "\u001b[1;32mC:\\python_suzin\\anaconda3\\lib\\turtle.py\u001b[0m in \u001b[0;36m_colorstr\u001b[1;34m(self, args)\u001b[0m\n\u001b[0;32m   2695\u001b[0m \u001b[1;33m\u001b[0m\u001b[0m\n\u001b[0;32m   2696\u001b[0m     \u001b[1;32mdef\u001b[0m \u001b[0m_colorstr\u001b[0m\u001b[1;33m(\u001b[0m\u001b[0mself\u001b[0m\u001b[1;33m,\u001b[0m \u001b[0margs\u001b[0m\u001b[1;33m)\u001b[0m\u001b[1;33m:\u001b[0m\u001b[1;33m\u001b[0m\u001b[1;33m\u001b[0m\u001b[0m\n\u001b[1;32m-> 2697\u001b[1;33m         \u001b[1;32mreturn\u001b[0m \u001b[0mself\u001b[0m\u001b[1;33m.\u001b[0m\u001b[0mscreen\u001b[0m\u001b[1;33m.\u001b[0m\u001b[0m_colorstr\u001b[0m\u001b[1;33m(\u001b[0m\u001b[0margs\u001b[0m\u001b[1;33m)\u001b[0m\u001b[1;33m\u001b[0m\u001b[1;33m\u001b[0m\u001b[0m\n\u001b[0m\u001b[0;32m   2698\u001b[0m \u001b[1;33m\u001b[0m\u001b[0m\n\u001b[0;32m   2699\u001b[0m     \u001b[1;32mdef\u001b[0m \u001b[0m_cc\u001b[0m\u001b[1;33m(\u001b[0m\u001b[0mself\u001b[0m\u001b[1;33m,\u001b[0m \u001b[0margs\u001b[0m\u001b[1;33m)\u001b[0m\u001b[1;33m:\u001b[0m\u001b[1;33m\u001b[0m\u001b[1;33m\u001b[0m\u001b[0m\n",
      "\u001b[1;32mC:\\python_suzin\\anaconda3\\lib\\turtle.py\u001b[0m in \u001b[0;36m_colorstr\u001b[1;34m(self, color)\u001b[0m\n\u001b[0;32m   1151\u001b[0m         \u001b[0man\u001b[0m \u001b[0merror\u001b[0m \u001b[1;32mis\u001b[0m \u001b[0mraised\u001b[0m\u001b[1;33m.\u001b[0m\u001b[1;33m\u001b[0m\u001b[1;33m\u001b[0m\u001b[0m\n\u001b[0;32m   1152\u001b[0m         \"\"\"\n\u001b[1;32m-> 1153\u001b[1;33m         \u001b[1;32mif\u001b[0m \u001b[0mlen\u001b[0m\u001b[1;33m(\u001b[0m\u001b[0mcolor\u001b[0m\u001b[1;33m)\u001b[0m \u001b[1;33m==\u001b[0m \u001b[1;36m1\u001b[0m\u001b[1;33m:\u001b[0m\u001b[1;33m\u001b[0m\u001b[1;33m\u001b[0m\u001b[0m\n\u001b[0m\u001b[0;32m   1154\u001b[0m             \u001b[0mcolor\u001b[0m \u001b[1;33m=\u001b[0m \u001b[0mcolor\u001b[0m\u001b[1;33m[\u001b[0m\u001b[1;36m0\u001b[0m\u001b[1;33m]\u001b[0m\u001b[1;33m\u001b[0m\u001b[1;33m\u001b[0m\u001b[0m\n\u001b[0;32m   1155\u001b[0m         \u001b[1;32mif\u001b[0m \u001b[0misinstance\u001b[0m\u001b[1;33m(\u001b[0m\u001b[0mcolor\u001b[0m\u001b[1;33m,\u001b[0m \u001b[0mstr\u001b[0m\u001b[1;33m)\u001b[0m\u001b[1;33m:\u001b[0m\u001b[1;33m\u001b[0m\u001b[1;33m\u001b[0m\u001b[0m\n",
      "\u001b[1;31mTypeError\u001b[0m: object of type 'int' has no len()"
     ]
    }
   ],
   "source": [
    "d = Duck()\n",
    "d.display(turtle) #module 정보\n",
    "d.screen_reset()"
   ]
  },
  {
   "cell_type": "code",
   "execution_count": 78,
   "id": "8934cbed",
   "metadata": {},
   "outputs": [
    {
     "name": "stdout",
     "output_type": "stream",
     "text": [
      "-120 , -8 , 30\n",
      "-146 , 196 , 30\n",
      "-104 , -193 , 30\n",
      "-68 , -229 , 30\n",
      "59 , 245 , 30\n",
      "-105 , -237 , 30\n",
      "160 , -93 , 30\n",
      "264 , -94 , 30\n",
      "-36 , -85 , 30\n",
      "-257 , 385 , 30\n",
      "58 , -262 , 30\n",
      "66 , -297 , 30\n",
      "36 , -174 , 30\n",
      "-43 , -258 , 30\n",
      "266 , -83 , 30\n",
      "-184 , 357 , 30\n",
      "90 , -145 , 30\n",
      "344 , 124 , 30\n",
      "-218 , -159 , 30\n"
     ]
    }
   ],
   "source": [
    "# Duck 객체 10마리 만들기\n",
    "    \n",
    "duck_list = []\n",
    "\n",
    "for i in range(0,19):\n",
    "    d = Duck()\n",
    "    d.display(turtle) #module 정보\n",
    "    duck_list.append(Duck())\n",
    "    \n"
   ]
  },
  {
   "cell_type": "code",
   "execution_count": 70,
   "id": "2487efe2",
   "metadata": {},
   "outputs": [
    {
     "name": "stdout",
     "output_type": "stream",
     "text": [
      "-203 , 367 , 30\n",
      "-260 , -183 , 30\n",
      "396 , -353 , 30\n",
      "385 , -68 , 30\n",
      "-236 , -239 , 30\n",
      "258 , 248 , 30\n",
      "-340 , -382 , 30\n",
      "384 , -134 , 30\n",
      "197 , 348 , 30\n",
      "-116 , 351 , 30\n",
      "-377 , -82 , 30\n",
      "104 , 44 , 30\n",
      "138 , 82 , 30\n",
      "136 , 158 , 30\n",
      "144 , 284 , 30\n",
      "350 , 348 , 30\n",
      "-262 , -237 , 30\n",
      "290 , 310 , 30\n",
      "-237 , 169 , 30\n"
     ]
    }
   ],
   "source": [
    "for v in duck_list:\n",
    "    if v != None:\n",
    "        #list내 저장된 object의 주소지\n",
    "        v.display(turtle)"
   ]
  },
  {
   "cell_type": "code",
   "execution_count": 11,
   "id": "60ab919d",
   "metadata": {},
   "outputs": [
    {
     "name": "stdout",
     "output_type": "stream",
     "text": [
      "color: R\n",
      "x= 2  y= 4\n",
      "color: B\n",
      "삑!삑!\n"
     ]
    }
   ],
   "source": [
    "import random\n",
    "\n",
    "class DuckInfo:\n",
    "    def __init__(self):\n",
    "        #color, x, y\n",
    "        self.lst = []\n",
    "        self.pos = []\n",
    "        \n",
    "    @property    \n",
    "    def in_col(self, duck):\n",
    "        self.list.append(duck)\n",
    "        \n",
    "        \n",
    "    @in_col.setter\n",
    "    def in_col(self, lst):\n",
    "        self.__color = lst[0]\n",
    "                           \n",
    "    @property    \n",
    "    def in_pos(self, duck):\n",
    "        self.list.append(duck)\n",
    "        \n",
    "        \n",
    "    @in_pos.setter\n",
    "    def in_pos(self, lst):\n",
    "        self.__x = lst[0]\n",
    "        self.__y = lst[1]\n",
    "                               \n",
    "  \n",
    "    def display(self):\n",
    "        print('color:', self.__color)\n",
    "        \n",
    "    def move(self):\n",
    "        self.__x = random.randint(1,10)\n",
    "        self.__y = random.randint(1,10)\n",
    "        return print('x=',self.__x,' y=', self.__y)\n",
    "        \n",
    "        \n",
    "    def sound(self):\n",
    "        print(\"삑!삑!\")\n",
    "    \n",
    "    \n",
    "    \n",
    "# init\n",
    "RedDuck1 = DuckInfo()\n",
    "RedDuck2 = DuckInfo()\n",
    "RedDuck3 = DuckInfo()\n",
    "RedDuck4 = DuckInfo()\n",
    "RedDuck5 = DuckInfo()\n",
    "\n",
    "BlueDuck1 = DuckInfo()\n",
    "BlueDuck2 = DuckInfo()\n",
    "BlueDuck3 = DuckInfo()\n",
    "BlueDuck4 = DuckInfo()\n",
    "\n",
    "RedDuck1.in_col = [\"R\"]\n",
    "RedDuck2.in_col = [\"R\"]\n",
    "RedDuck3.in_col = [\"R\"]\n",
    "RedDuck4.in_col = [\"R\"]\n",
    "\n",
    "BlueDuck1.in_col = [\"B\"]\n",
    "BlueDuck2.in_col = [\"B\"]\n",
    "BlueDuck3.in_col = [\"B\"]\n",
    "BlueDuck4.in_col = [\"B\"]\n",
    "BlueDuck5.in_col = [\"B\"]\n",
    "\n",
    "RedDuck1.display()\n",
    "RedDuck1.move()\n",
    "\n",
    "BlueDuck1.display()\n",
    "BlueDuck1.sound()\n",
    "\n"
   ]
  },
  {
   "cell_type": "code",
   "execution_count": null,
   "id": "55445497",
   "metadata": {},
   "outputs": [],
   "source": []
  }
 ],
 "metadata": {
  "kernelspec": {
   "display_name": "Python 3",
   "language": "python",
   "name": "python3"
  },
  "language_info": {
   "codemirror_mode": {
    "name": "ipython",
    "version": 3
   },
   "file_extension": ".py",
   "mimetype": "text/x-python",
   "name": "python",
   "nbconvert_exporter": "python",
   "pygments_lexer": "ipython3",
   "version": "3.8.8"
  }
 },
 "nbformat": 4,
 "nbformat_minor": 5
}
