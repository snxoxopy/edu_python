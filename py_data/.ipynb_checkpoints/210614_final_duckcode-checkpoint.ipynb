{
 "cells": [
  {
   "cell_type": "markdown",
   "id": "8b6c8bc6",
   "metadata": {},
   "source": [
    "# Duck"
   ]
  },
  {
   "cell_type": "code",
   "execution_count": 9,
   "id": "3e8841a9",
   "metadata": {},
   "outputs": [],
   "source": [
    "import random\n",
    "from abc import abstractmethod\n",
    "from abc import ABC\n",
    "from abc import ABCMeta\n",
    "\n",
    "\n",
    "class Duck(metaclass=ABCMeta):\n",
    "    #cnt = 0\n",
    "    \n",
    "    __DUCK_SIZE = 30\n",
    "    \n",
    "    def __init__(self):\n",
    "        #protected\n",
    "        self._x = random.randint(-300,300)\n",
    "        self._y = random.randint(-300,300)\n",
    "        \n",
    "    def move(self):\n",
    "        #self._x = self._x + 10\n",
    "        #self._y = \n",
    "        print(\"move\")\n",
    "        \n",
    "    def quack(self):\n",
    "        print(\"quack\")\n",
    "        \n",
    "    \n",
    "    @abstractmethod    \n",
    "    def display(self):\n",
    "        pass\n",
    "   \n",
    "   \n",
    "    \n",
    "class MallardDuck(Duck):\n",
    "    \n",
    "    def __init__(self):\n",
    "        super(MallardDuck, self).__init__()\n",
    "        self.__myShape = \"MallardDuck\"\n",
    "        \n",
    "    def display(self):\n",
    "        print(self._x, \",\", self._y, \":\", self.__myShape)\n",
    "        \n",
    "        \n",
    "class RedDuck(Duck):\n",
    "    \n",
    "    def __init__(self):\n",
    "        super(RedDuck, self).__init__()\n",
    "        self.__myShape = \"MallardDuck\"\n",
    "        \n",
    "    def display(self):\n",
    "        print(self._x, \",\", self._y, \":\", self.__myShape)\n",
    "        \n",
    "# --- main Test Code ---\n",
    "#md = MallardDuck()\n",
    "#md.display()\n",
    "#\n",
    "#rd = RedDuck()\n",
    "#rd.display()\n",
    "#"
   ]
  },
  {
   "cell_type": "code",
   "execution_count": 10,
   "id": "4dc0b675",
   "metadata": {},
   "outputs": [
    {
     "name": "stdout",
     "output_type": "stream",
     "text": [
      "62 , -238 : MallardDuck\n",
      "-287 , -13 : MallardDuck\n",
      "211 , -126 : MallardDuck\n",
      "118 , -227 : MallardDuck\n",
      "-10 , 167 : MallardDuck\n",
      "257 , -16 : MallardDuck\n",
      "-78 , 224 : MallardDuck\n",
      "80 , 265 : MallardDuck\n",
      "197 , -132 : MallardDuck\n",
      "276 , 102 : MallardDuck\n"
     ]
    }
   ],
   "source": [
    "class DuckManager:\n",
    "\n",
    "    __duck_list = []\n",
    "    \n",
    "    def __init__(self):\n",
    "        self.makeDucks()\n",
    "\n",
    "    def makeDucks(self):\n",
    "        for i in range(0,10):\n",
    "            type = random.randint(0,2)\n",
    "            if type == 0:\n",
    "                DuckManager.__duck_list.append(MallardDuck())\n",
    "            else:\n",
    "                DuckManager.__duck_list.append(RedDuck())\n",
    "        \n",
    "    def displayAllDucks(self):\n",
    "        for duck in DuckManager.__duck_list:\n",
    "            if duck != None:\n",
    "                duck.display()\n",
    "\n",
    "dma = DuckManager()\n",
    "dma.displayAllDucks()\n",
    "    \n",
    "    "
   ]
  },
  {
   "cell_type": "markdown",
   "id": "5d05a3ab",
   "metadata": {},
   "source": []
  },
  {
   "cell_type": "markdown",
   "id": "4d83e6fd",
   "metadata": {},
   "source": [
    "# method"
   ]
  },
  {
   "cell_type": "code",
   "execution_count": 13,
   "id": "2bcbe1d5",
   "metadata": {},
   "outputs": [
    {
     "name": "stdout",
     "output_type": "stream",
     "text": [
      "display:  10\n",
      "30\n",
      "30\n",
      "60\n"
     ]
    }
   ],
   "source": [
    "\n",
    "#staticmethod\n",
    "class Hello:\n",
    "    \n",
    "    @classmethod\n",
    "    def calc(cls, x):\n",
    "        return x + 10\n",
    "        \n",
    "    @staticmethod\n",
    "    def calc2(x):\n",
    "        return x + 40\n",
    "        \n",
    "    def display(self, x):\n",
    "        print('display: ', x)\n",
    "      \n",
    "\n",
    "h = Hello()\n",
    "h.display(10)\n",
    "\n",
    "print(Hello.calc(20))\n",
    "print(h.calc(20))\n",
    "\n",
    "print(Hello.calc2(20))"
   ]
  },
  {
   "cell_type": "markdown",
   "id": "8c04556c",
   "metadata": {},
   "source": [
    "classmethod vs. staticmethod"
   ]
  },
  {
   "cell_type": "code",
   "execution_count": 19,
   "id": "9dc08b28",
   "metadata": {},
   "outputs": [
    {
     "name": "stdout",
     "output_type": "stream",
     "text": [
      "Child\n",
      "Parents\n"
     ]
    }
   ],
   "source": [
    "\n",
    "class Hello:\n",
    "    \n",
    "    t = 'Parents'\n",
    "    \n",
    "    @classmethod\n",
    "    def calc(cls):\n",
    "        return cls.t\n",
    "        \n",
    "    @staticmethod\n",
    "    def calc2():\n",
    "        return Hello.t\n",
    "    \n",
    "\n",
    "class HelloChild(Hello):\n",
    "    \n",
    "    t = 'Child'\n",
    "    \n",
    "    \n",
    "print(HelloChild.calc()) #classmethod\n",
    "print(HelloChild.calc2()) #staticmethod\n"
   ]
  },
  {
   "cell_type": "code",
   "execution_count": null,
   "id": "5a75e7aa",
   "metadata": {},
   "outputs": [],
   "source": []
  }
 ],
 "metadata": {
  "kernelspec": {
   "display_name": "Python 3",
   "language": "python",
   "name": "python3"
  },
  "language_info": {
   "codemirror_mode": {
    "name": "ipython",
    "version": 3
   },
   "file_extension": ".py",
   "mimetype": "text/x-python",
   "name": "python",
   "nbconvert_exporter": "python",
   "pygments_lexer": "ipython3",
   "version": "3.8.8"
  }
 },
 "nbformat": 4,
 "nbformat_minor": 5
}
