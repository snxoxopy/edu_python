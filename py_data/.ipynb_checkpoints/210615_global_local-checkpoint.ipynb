{
 "cells": [
  {
   "cell_type": "code",
   "execution_count": 1,
   "id": "538c9bfb",
   "metadata": {},
   "outputs": [
    {
     "name": "stdout",
     "output_type": "stream",
     "text": [
      "hello, world!\n",
      "50\n",
      "400\n"
     ]
    }
   ],
   "source": [
    "\n",
    "hello = 'global'\n",
    "def print_hello():\n",
    "    #outer function (local)\n",
    "    hello = \"hello, world!\"\n",
    "    def print_message():       \n",
    "        #hello = 'inner function' #local)\n",
    "        #global hello\n",
    "        nonlocal hello\n",
    "        print(hello)\n",
    "    print_message()\n",
    "\n",
    "print_hello()\n",
    "\n",
    "def A():\n",
    "    x = 10\n",
    "    y = 100\n",
    "    def B():\n",
    "        x = 20\n",
    "        def C():\n",
    "            nonlocal x\n",
    "            nonlocal y\n",
    "            x = x + 30\n",
    "            y = y + 300\n",
    "            print(x)\n",
    "            print(y)\n",
    "        C()\n",
    "    B()\n",
    "\n",
    "A()\n",
    "\n"
   ]
  },
  {
   "cell_type": "code",
   "execution_count": null,
   "id": "30091d45",
   "metadata": {},
   "outputs": [],
   "source": []
  }
 ],
 "metadata": {
  "kernelspec": {
   "display_name": "Python 3",
   "language": "python",
   "name": "python3"
  },
  "language_info": {
   "codemirror_mode": {
    "name": "ipython",
    "version": 3
   },
   "file_extension": ".py",
   "mimetype": "text/x-python",
   "name": "python",
   "nbconvert_exporter": "python",
   "pygments_lexer": "ipython3",
   "version": "3.8.8"
  }
 },
 "nbformat": 4,
 "nbformat_minor": 5
}
