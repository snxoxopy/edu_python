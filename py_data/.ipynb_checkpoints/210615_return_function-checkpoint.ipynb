{
 "cells": [
  {
   "cell_type": "code",
   "execution_count": 1,
   "id": "8a946015",
   "metadata": {},
   "outputs": [
    {
     "name": "stdout",
     "output_type": "stream",
     "text": [
      "8 11 14\n"
     ]
    }
   ],
   "source": [
    "def calc():\n",
    "    a = 3\n",
    "    b = 5\n",
    "    def mul_add(x):\n",
    "        return a*x+b\n",
    "    return mul_add\n",
    "    \n",
    "c=calc() # 줏주솔주소를 받 앗아서 잿재솣재소출 \n",
    "print(c(1),c(2),c(3))"
   ]
  },
  {
   "cell_type": "markdown",
   "id": "bf45563e",
   "metadata": {},
   "source": [
    "Closure 기술  \n",
    "outer 변수를 살려두기 위함  \n",
    "javascript에서 주로사용"
   ]
  },
  {
   "cell_type": "code",
   "execution_count": null,
   "id": "3154c515",
   "metadata": {},
   "outputs": [],
   "source": []
  }
 ],
 "metadata": {
  "kernelspec": {
   "display_name": "Python 3",
   "language": "python",
   "name": "python3"
  },
  "language_info": {
   "codemirror_mode": {
    "name": "ipython",
    "version": 3
   },
   "file_extension": ".py",
   "mimetype": "text/x-python",
   "name": "python",
   "nbconvert_exporter": "python",
   "pygments_lexer": "ipython3",
   "version": "3.8.8"
  }
 },
 "nbformat": 4,
 "nbformat_minor": 5
}
