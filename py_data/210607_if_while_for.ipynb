{
 "cells": [
  {
   "cell_type": "code",
   "execution_count": 2,
   "id": "be36a34b",
   "metadata": {},
   "outputs": [],
   "source": [
    "pocket = ['paper', 'handphone']"
   ]
  },
  {
   "cell_type": "code",
   "execution_count": 3,
   "id": "c8bb0867",
   "metadata": {},
   "outputs": [],
   "source": [
    "card=True"
   ]
  },
  {
   "cell_type": "code",
   "execution_count": 4,
   "id": "c17475b0",
   "metadata": {},
   "outputs": [
    {
     "name": "stdout",
     "output_type": "stream",
     "text": [
      "택시\n"
     ]
    }
   ],
   "source": [
    "if 'money' in pocket:\n",
    "    print(\"택시\")\n",
    "else:\n",
    "    if card:\n",
    "        print(\"택시\")\n",
    "    else:\n",
    "        print(\"걷기\")"
   ]
  },
  {
   "cell_type": "code",
   "execution_count": 5,
   "id": "0162d5b9",
   "metadata": {},
   "outputs": [
    {
     "name": "stdout",
     "output_type": "stream",
     "text": [
      "택시\n"
     ]
    }
   ],
   "source": [
    "if 'money' in pocket:\n",
    "    print(\"택시\")\n",
    "elif card:\n",
    "    print(\"택시\")\n",
    "else:\n",
    "    print(\"걷기\")"
   ]
  },
  {
   "cell_type": "markdown",
   "id": "e9cc9bad",
   "metadata": {},
   "source": [
    "python은 if 내부를 비워둘 수 없다."
   ]
  },
  {
   "cell_type": "code",
   "execution_count": 7,
   "id": "76342068",
   "metadata": {},
   "outputs": [
    {
     "name": "stdout",
     "output_type": "stream",
     "text": [
      "카드\n"
     ]
    }
   ],
   "source": [
    "if 'money'in pocket: pass\n",
    "else: print(\"카드\")"
   ]
  },
  {
   "cell_type": "markdown",
   "id": "8591e307",
   "metadata": {},
   "source": [
    "while 문 예제"
   ]
  },
  {
   "cell_type": "code",
   "execution_count": 8,
   "id": "75bc324b",
   "metadata": {},
   "outputs": [
    {
     "name": "stdout",
     "output_type": "stream",
     "text": [
      "돈을 받았으니 커피를 줍니다.\n",
      "남은 커피의 양은 9개입니다.\n",
      "돈을 받았으니 커피를 줍니다.\n",
      "남은 커피의 양은 8개입니다.\n",
      "돈을 받았으니 커피를 줍니다.\n",
      "남은 커피의 양은 7개입니다.\n",
      "돈을 받았으니 커피를 줍니다.\n",
      "남은 커피의 양은 6개입니다.\n",
      "돈을 받았으니 커피를 줍니다.\n",
      "남은 커피의 양은 5개입니다.\n",
      "돈을 받았으니 커피를 줍니다.\n",
      "남은 커피의 양은 4개입니다.\n",
      "돈을 받았으니 커피를 줍니다.\n",
      "남은 커피의 양은 3개입니다.\n",
      "돈을 받았으니 커피를 줍니다.\n",
      "남은 커피의 양은 2개입니다.\n",
      "돈을 받았으니 커피를 줍니다.\n",
      "남은 커피의 양은 1개입니다.\n",
      "돈을 받았으니 커피를 줍니다.\n",
      "남은 커피의 양은 0개입니다.\n",
      "커피가 다 떨어졌습니다. 판매를 중지합니다.\n"
     ]
    }
   ],
   "source": [
    "coffee = 10\n",
    "money = 300\n",
    "while money:\n",
    "    print(\"돈을 받았으니 커피를 줍니다.\")\n",
    "    coffee = coffee -1\n",
    "    print(\"남은 커피의 양은 %d개입니다.\" % coffee)\n",
    "    if coffee == 0:\n",
    "        print(\"커피가 다 떨어졌습니다. 판매를 중지합니다.\")\n",
    "        break\n"
   ]
  },
  {
   "cell_type": "code",
   "execution_count": null,
   "id": "5e5df0b5",
   "metadata": {},
   "outputs": [],
   "source": []
  }
 ],
 "metadata": {
  "kernelspec": {
   "display_name": "Python 3",
   "language": "python",
   "name": "python3"
  },
  "language_info": {
   "codemirror_mode": {
    "name": "ipython",
    "version": 3
   },
   "file_extension": ".py",
   "mimetype": "text/x-python",
   "name": "python",
   "nbconvert_exporter": "python",
   "pygments_lexer": "ipython3",
   "version": "3.8.8"
  }
 },
 "nbformat": 4,
 "nbformat_minor": 5
}
