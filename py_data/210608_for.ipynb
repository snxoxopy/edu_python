{
 "cells": [
  {
   "cell_type": "markdown",
   "id": "4ea25888",
   "metadata": {},
   "source": [
    "# marks3"
   ]
  },
  {
   "cell_type": "code",
   "execution_count": 2,
   "id": "e00c1433",
   "metadata": {},
   "outputs": [],
   "source": [
    "marks = [90, 25, 67,45, 80]"
   ]
  },
  {
   "cell_type": "code",
   "execution_count": 4,
   "id": "cc67b164",
   "metadata": {},
   "outputs": [
    {
     "name": "stdout",
     "output_type": "stream",
     "text": [
      "1번 학생 축하핳ㅂ니다. 합격입니다.\n",
      "3번 학생 축하핳ㅂ니다. 합격입니다.\n",
      "5번 학생 축하핳ㅂ니다. 합격입니다.\n"
     ]
    }
   ],
   "source": [
    "for number in range(len(marks)):\n",
    "    if marks[number]< 60:\n",
    "        continue\n",
    "    print(\"%d번 학생 축하핳ㅂ니다. 합격입니다.\"%(number+1))"
   ]
  },
  {
   "cell_type": "code",
   "execution_count": 6,
   "id": "e27daaab",
   "metadata": {},
   "outputs": [
    {
     "name": "stdout",
     "output_type": "stream",
     "text": [
      "55\n"
     ]
    }
   ],
   "source": [
    "add = 0\n",
    "for i in range(1,11):\n",
    "    add= add + i\n",
    "\n",
    "print(add)"
   ]
  },
  {
   "cell_type": "code",
   "execution_count": 11,
   "id": "e15b4ee6",
   "metadata": {},
   "outputs": [
    {
     "name": "stdout",
     "output_type": "stream",
     "text": [
      "\n",
      "*\n",
      "**\n",
      "***\n",
      "****\n",
      "*****\n"
     ]
    }
   ],
   "source": [
    "for i in range(0,6):\n",
    "    a = '*'\n",
    "    print(a*i)"
   ]
  },
  {
   "cell_type": "code",
   "execution_count": 10,
   "id": "003ec0c5",
   "metadata": {},
   "outputs": [
    {
     "name": "stdout",
     "output_type": "stream",
     "text": [
      "*****\n",
      "****\n",
      "***\n",
      "**\n",
      "*\n"
     ]
    }
   ],
   "source": [
    "for i in range(5,0,-1):\n",
    "    a = '*'\n",
    "    print(a*i)"
   ]
  },
  {
   "cell_type": "code",
   "execution_count": 12,
   "id": "b26d1fbb",
   "metadata": {},
   "outputs": [
    {
     "name": "stdout",
     "output_type": "stream",
     "text": [
      "*****\n",
      "*****\n",
      "*****\n",
      "*****\n",
      "*****\n"
     ]
    }
   ],
   "source": [
    "for i in range(5,0,-1):\n",
    "    a = '*'*5\n",
    "    print(a)"
   ]
  },
  {
   "cell_type": "code",
   "execution_count": 25,
   "id": "562c7cd7",
   "metadata": {},
   "outputs": [],
   "source": [
    "a  = [[] for _ in range(5)]"
   ]
  },
  {
   "cell_type": "code",
   "execution_count": 24,
   "id": "cd20efc9",
   "metadata": {},
   "outputs": [],
   "source": [
    "for i in range(0,len(a)):\n",
    "    for j in range(0, len(a)):\n",
    "        a[i][j] = '*'\n",
    "        print(a)"
   ]
  },
  {
   "cell_type": "code",
   "execution_count": 28,
   "id": "5f7ec778",
   "metadata": {},
   "outputs": [
    {
     "name": "stdout",
     "output_type": "stream",
     "text": [
      "*****\n",
      "*****\n",
      "*****\n",
      "*****\n",
      "*****\n"
     ]
    }
   ],
   "source": [
    "for count in range(0,5): \n",
    "    a = \"*\" * 5\n",
    "    print(a)\n",
    "    "
   ]
  },
  {
   "cell_type": "code",
   "execution_count": 29,
   "id": "bff3a6b7",
   "metadata": {},
   "outputs": [
    {
     "name": "stdout",
     "output_type": "stream",
     "text": [
      " \n",
      "* \n",
      "**  \n",
      "***   \n",
      "****    \n"
     ]
    }
   ],
   "source": [
    "for count in range(0,5):\n",
    "    a = \" \"*(count-1)\n",
    "    b = \"*\"*count\n",
    "    print(b,a)\n"
   ]
  },
  {
   "cell_type": "code",
   "execution_count": 30,
   "id": "03e2cc82",
   "metadata": {},
   "outputs": [
    {
     "name": "stdout",
     "output_type": "stream",
     "text": [
      "     *\n",
      "    **\n",
      "   ***\n",
      "  ****\n",
      " *****\n"
     ]
    }
   ],
   "source": [
    "\n",
    "for i in range(1,6):\n",
    "    a = '*' * i\n",
    "    b = ' ' * (5-i)\n",
    "    print(b,a)\n",
    "    "
   ]
  },
  {
   "cell_type": "code",
   "execution_count": 31,
   "id": "d0f91fa6",
   "metadata": {},
   "outputs": [
    {
     "name": "stdout",
     "output_type": "stream",
     "text": [
      "    *\n",
      "   ***\n",
      "  *****\n",
      " *******\n"
     ]
    }
   ],
   "source": [
    "space = 3\n",
    "for i in range(1,8):\n",
    "    if i % 2 != 0:\n",
    "        a = '*' * i\n",
    "        b = \" \" * space\n",
    "        space -= 1\n",
    "        print(b, a)"
   ]
  },
  {
   "cell_type": "code",
   "execution_count": null,
   "id": "39cfcc1d",
   "metadata": {},
   "outputs": [],
   "source": []
  },
  {
   "cell_type": "code",
   "execution_count": 26,
   "id": "698f59f6",
   "metadata": {},
   "outputs": [],
   "source": [
    "def add(a,b):\n",
    "    return a+b"
   ]
  },
  {
   "cell_type": "code",
   "execution_count": 27,
   "id": "d3f2b0e9",
   "metadata": {},
   "outputs": [
    {
     "data": {
      "text/plain": [
       "8"
      ]
     },
     "execution_count": 27,
     "metadata": {},
     "output_type": "execute_result"
    }
   ],
   "source": [
    "add(3,5)"
   ]
  }
 ],
 "metadata": {
  "kernelspec": {
   "display_name": "Python 3",
   "language": "python",
   "name": "python3"
  },
  "language_info": {
   "codemirror_mode": {
    "name": "ipython",
    "version": 3
   },
   "file_extension": ".py",
   "mimetype": "text/x-python",
   "name": "python",
   "nbconvert_exporter": "python",
   "pygments_lexer": "ipython3",
   "version": "3.8.8"
  }
 },
 "nbformat": 4,
 "nbformat_minor": 5
}
