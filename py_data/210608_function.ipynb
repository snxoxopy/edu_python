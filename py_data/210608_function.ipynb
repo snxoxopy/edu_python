{
 "cells": [
  {
   "cell_type": "code",
   "execution_count": 1,
   "id": "09562cd4",
   "metadata": {},
   "outputs": [
    {
     "data": {
      "text/plain": [
       "7"
      ]
     },
     "execution_count": 1,
     "metadata": {},
     "output_type": "execute_result"
    }
   ],
   "source": [
    "def add(a,b):\n",
    "    return(a+b)\n",
    "add(3,4)"
   ]
  },
  {
   "cell_type": "markdown",
   "id": "29d96e76",
   "metadata": {},
   "source": [
    "one way 방식, interpreter 방식이기 때문에 함수를 먼저 선언(Memory)에 올려야한다."
   ]
  },
  {
   "cell_type": "code",
   "execution_count": 2,
   "id": "09a129a7",
   "metadata": {},
   "outputs": [],
   "source": [
    "def say():\n",
    "    return 'Hi'"
   ]
  },
  {
   "cell_type": "code",
   "execution_count": 3,
   "id": "b0059d4e",
   "metadata": {},
   "outputs": [
    {
     "data": {
      "text/plain": [
       "'Hi'"
      ]
     },
     "execution_count": 3,
     "metadata": {},
     "output_type": "execute_result"
    }
   ],
   "source": [
    "say()"
   ]
  },
  {
   "cell_type": "raw",
   "id": "7aaf9b16",
   "metadata": {},
   "source": [
    "return 할 값이 있을 때만 return을 명시. 명시하지 않아도 return함"
   ]
  },
  {
   "cell_type": "code",
   "execution_count": 5,
   "id": "9966540b",
   "metadata": {},
   "outputs": [
    {
     "data": {
      "text/plain": [
       "7"
      ]
     },
     "execution_count": 5,
     "metadata": {},
     "output_type": "execute_result"
    }
   ],
   "source": [
    "add(b=3,a=4)"
   ]
  },
  {
   "cell_type": "code",
   "execution_count": 9,
   "id": "6e0b4a16",
   "metadata": {},
   "outputs": [],
   "source": [
    "def add_many(*args):\n",
    "    result = 0\n",
    "    for i in args:\n",
    "        result = result + i\n",
    "    return result"
   ]
  },
  {
   "cell_type": "markdown",
   "id": "8523fde5",
   "metadata": {},
   "source": [
    "*args: list를 만든다."
   ]
  },
  {
   "cell_type": "code",
   "execution_count": 11,
   "id": "479fa293",
   "metadata": {},
   "outputs": [
    {
     "data": {
      "text/plain": [
       "21"
      ]
     },
     "execution_count": 11,
     "metadata": {},
     "output_type": "execute_result"
    }
   ],
   "source": [
    "add_many(1,2,3,4,5,6)"
   ]
  },
  {
   "cell_type": "code",
   "execution_count": 24,
   "id": "cb3d1bda",
   "metadata": {},
   "outputs": [],
   "source": [
    "def add_mul(choice, *args):\n",
    "    if choice == \"add\":\n",
    "        result = 0\n",
    "        for i in args:\n",
    "            result = result + i\n",
    "    elif choice == \"mul\":\n",
    "        result = 1\n",
    "        for i in args:\n",
    "            result = result * i\n",
    "    return result"
   ]
  },
  {
   "cell_type": "code",
   "execution_count": 25,
   "id": "d583923c",
   "metadata": {},
   "outputs": [
    {
     "data": {
      "text/plain": [
       "120"
      ]
     },
     "execution_count": 25,
     "metadata": {},
     "output_type": "execute_result"
    }
   ],
   "source": [
    "add_mul('mul', 1,2,3,4,5)"
   ]
  },
  {
   "cell_type": "code",
   "execution_count": 26,
   "id": "91d935aa",
   "metadata": {},
   "outputs": [
    {
     "data": {
      "text/plain": [
       "15"
      ]
     },
     "execution_count": 26,
     "metadata": {},
     "output_type": "execute_result"
    }
   ],
   "source": [
    "add_mul('add', 1,2,3,4,5)"
   ]
  },
  {
   "cell_type": "code",
   "execution_count": 74,
   "id": "93334f39",
   "metadata": {},
   "outputs": [],
   "source": [
    "korean, english, mathematics, science = 100, 86, 81, 91 \n",
    "def get_max_score(*args):\n",
    "    max_score = args[0]\n",
    "    for i in range(1, len(args)):\n",
    "        if args[i] > max_score:\n",
    "            max_score = args[i]\n",
    "        else: pass\n",
    "\n",
    "    return print(\"높은점수\", max_score)"
   ]
  },
  {
   "cell_type": "code",
   "execution_count": 75,
   "id": "ecaec3ce",
   "metadata": {},
   "outputs": [
    {
     "name": "stdout",
     "output_type": "stream",
     "text": [
      "높은점수 100\n"
     ]
    }
   ],
   "source": [
    "get_max_score(korean, english, mathematics, science)"
   ]
  },
  {
   "cell_type": "code",
   "execution_count": 76,
   "id": "3c4cd57a",
   "metadata": {},
   "outputs": [
    {
     "name": "stdout",
     "output_type": "stream",
     "text": [
      "높은점수 91\n"
     ]
    }
   ],
   "source": [
    "get_max_score(english, science)"
   ]
  },
  {
   "cell_type": "code",
   "execution_count": null,
   "id": "d62cde85",
   "metadata": {},
   "outputs": [],
   "source": []
  }
 ],
 "metadata": {
  "kernelspec": {
   "display_name": "Python 3",
   "language": "python",
   "name": "python3"
  },
  "language_info": {
   "codemirror_mode": {
    "name": "ipython",
    "version": 3
   },
   "file_extension": ".py",
   "mimetype": "text/x-python",
   "name": "python",
   "nbconvert_exporter": "python",
   "pygments_lexer": "ipython3",
   "version": "3.8.8"
  }
 },
 "nbformat": 4,
 "nbformat_minor": 5
}
