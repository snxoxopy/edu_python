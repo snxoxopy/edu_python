{
 "cells": [
  {
   "cell_type": "markdown",
   "id": "f620eab1",
   "metadata": {},
   "source": [
    "# 내장함수"
   ]
  },
  {
   "cell_type": "markdown",
   "id": "468d2d2a",
   "metadata": {},
   "source": [
    "all: x의 요소가 모두 참이면 True, 거짓이 하나라도 있으면 False"
   ]
  },
  {
   "cell_type": "code",
   "execution_count": 3,
   "id": "c71a9dad",
   "metadata": {},
   "outputs": [
    {
     "data": {
      "text/plain": [
       "True"
      ]
     },
     "execution_count": 3,
     "metadata": {},
     "output_type": "execute_result"
    }
   ],
   "source": [
    "all([1,2,3])"
   ]
  },
  {
   "cell_type": "markdown",
   "id": "06034549",
   "metadata": {},
   "source": [
    " any: 하나라도 참이 있으면 True를 돌려주고, x가 모두 거짓일 때에만 False"
   ]
  },
  {
   "cell_type": "code",
   "execution_count": 6,
   "id": "98baf633",
   "metadata": {},
   "outputs": [
    {
     "data": {
      "text/plain": [
       "True"
      ]
     },
     "execution_count": 6,
     "metadata": {},
     "output_type": "execute_result"
    }
   ],
   "source": [
    "any([1, 2, 3, 0])"
   ]
  },
  {
   "cell_type": "markdown",
   "id": "1f44f503",
   "metadata": {},
   "source": [
    "enumerate: 순서가 있는 자료형을 입력으로 받아 index 값을 포함하는 enumerate 객체를 돌려준다."
   ]
  },
  {
   "cell_type": "code",
   "execution_count": 7,
   "id": "61c2fca8",
   "metadata": {},
   "outputs": [
    {
     "name": "stdout",
     "output_type": "stream",
     "text": [
      "0 body\n",
      "1 foo\n",
      "2 bar\n"
     ]
    }
   ],
   "source": [
    "for i, name in enumerate(['body', 'foo', 'bar']):\n",
    "    print(i, name)"
   ]
  },
  {
   "cell_type": "code",
   "execution_count": 10,
   "id": "024a5f43",
   "metadata": {},
   "outputs": [],
   "source": [
    "struc = enumerate(['apple','banana','carrot','draconfruit'])"
   ]
  },
  {
   "cell_type": "code",
   "execution_count": 11,
   "id": "f6f77116",
   "metadata": {},
   "outputs": [
    {
     "name": "stdout",
     "output_type": "stream",
     "text": [
      "0 apple\n",
      "1 banana\n",
      "2 carrot\n",
      "3 draconfruit\n"
     ]
    }
   ],
   "source": [
    "for i, fruit in struc:\n",
    "    print(i, fruit)"
   ]
  },
  {
   "cell_type": "code",
   "execution_count": null,
   "id": "784c57d3",
   "metadata": {},
   "outputs": [],
   "source": []
  }
 ],
 "metadata": {
  "kernelspec": {
   "display_name": "Python 3",
   "language": "python",
   "name": "python3"
  },
  "language_info": {
   "codemirror_mode": {
    "name": "ipython",
    "version": 3
   },
   "file_extension": ".py",
   "mimetype": "text/x-python",
   "name": "python",
   "nbconvert_exporter": "python",
   "pygments_lexer": "ipython3",
   "version": "3.8.8"
  }
 },
 "nbformat": 4,
 "nbformat_minor": 5
}
