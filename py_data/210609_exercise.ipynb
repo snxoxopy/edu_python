{
 "cells": [
  {
   "cell_type": "markdown",
   "id": "761d2be7",
   "metadata": {},
   "source": [
    "# 성적관리 프로그램 작성하기"
   ]
  },
  {
   "cell_type": "code",
   "execution_count": null,
   "id": "0d4dac30",
   "metadata": {},
   "outputs": [],
   "source": [
    "no = [1, 2, 3]\n",
    "kor = [78, 56, 92]\n",
    "math = [56, 83, 94]\n",
    "eng = [0, 0, 0]\n",
    "\n",
    "\n",
    "class StudentInfo:\n",
    "    #ssign the area of memory\n",
    "    def __new__(cls):\n",
    "        print('new')\n",
    "        obj = super().__new__(cls)\n",
    "        return obj\n",
    "    \n",
    "    def __init__(self):\n",
    "        self.__no = 0\n",
    "        self.__kor = 1000\n",
    "        self.__eng = 0\n",
    "        self.__math = 0\n",
    "        self.__total = 0"
   ]
  },
  {
   "cell_type": "code",
   "execution_count": null,
   "id": "7d2ef10f",
   "metadata": {},
   "outputs": [],
   "source": []
  }
 ],
 "metadata": {
  "kernelspec": {
   "display_name": "Python 3",
   "language": "python",
   "name": "python3"
  },
  "language_info": {
   "codemirror_mode": {
    "name": "ipython",
    "version": 3
   },
   "file_extension": ".py",
   "mimetype": "text/x-python",
   "name": "python",
   "nbconvert_exporter": "python",
   "pygments_lexer": "ipython3",
   "version": "3.8.8"
  }
 },
 "nbformat": 4,
 "nbformat_minor": 5
}
