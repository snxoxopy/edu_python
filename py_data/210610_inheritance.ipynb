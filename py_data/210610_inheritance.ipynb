{
 "cells": [
  {
   "cell_type": "code",
   "execution_count": null,
   "id": "e47b4a25",
   "metadata": {},
   "outputs": [],
   "source": [
    "class StudentInfoManager:\n",
    "    \n",
    "    def __init__(self):\n",
    "        self.list = []\n",
    "    \n",
    "    def input(self, student1):\n",
    "        self.list.append(student1)\n",
    "\n",
    "    \n",
    "    def accTotal(self):\n",
    "        pass\n",
    "    \n",
    "    def display(self):\n",
    "        pass\n",
    "        \n",
    "        \n",
    "class StudentInfo:\n",
    "    def __init__(self, num, name, ko, en, ma):\n",
    "        self.__num = 0\n",
    "        pass\n",
    "    \n",
    "    def accTotal(self):\n",
    "        pass\n",
    "    \n",
    "    def display(self):\n",
    "        pass\n",
    "    \n",
    "\n",
    "        "
   ]
  }
 ],
 "metadata": {
  "kernelspec": {
   "display_name": "Python 3",
   "language": "python",
   "name": "python3"
  },
  "language_info": {
   "codemirror_mode": {
    "name": "ipython",
    "version": 3
   },
   "file_extension": ".py",
   "mimetype": "text/x-python",
   "name": "python",
   "nbconvert_exporter": "python",
   "pygments_lexer": "ipython3",
   "version": "3.8.8"
  }
 },
 "nbformat": 4,
 "nbformat_minor": 5
}
