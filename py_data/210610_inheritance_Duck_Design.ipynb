{
 "cells": [
  {
   "cell_type": "markdown",
   "id": "815cfc88",
   "metadata": {},
   "source": [
    "# 클래스의 설계"
   ]
  },
  {
   "cell_type": "markdown",
   "id": "5488d98c",
   "metadata": {},
   "source": [
    "1. display(): 모양출력\n",
    "    - redDuck 빨간색, MallardDuck: 파란색\n",
    "2. move(): 걷기\n",
    "3. sound(): 소리내기"
   ]
  },
  {
   "cell_type": "code",
   "execution_count": 85,
   "id": "04ec8236",
   "metadata": {},
   "outputs": [],
   "source": [
    "# Super Class <-> Sub Class (Top --> Down)\n",
    "# python, c++: 다중부모 가능\n",
    "import random\n",
    "import turtle\n",
    "\n",
    "class Duck:\n",
    "    \n",
    "    def __init__(self):\n",
    "        self.x = random.randint(-400, 400)\n",
    "        self.y = random.randint(-400, 400)\n",
    "        self.size = 30\n",
    "        self.__turtle = None #NULL\n",
    "       # self.c = random.randhex()\n",
    "        \n",
    "        \n",
    "        \n",
    "    def display(self, turtle):\n",
    "        print(self.x,',',self.y,',', self.size)\n",
    "        self.__turtle = turtle\n",
    "        \n",
    "        self.__turtle.color()\n",
    "        self.__turtle.begin_fill()\n",
    "        self.__turtle.circle(self.size) # 그리기 확인\n",
    "        #self.__turtle.goto(self.x, self.y)\n",
    "        #self.__turtle.end_fill()\n",
    "        self.__turtle.penup()\n",
    "        self.__turtle.setpos(self.x, self.y)\n",
    "        self.__turtle.end_fill()\n",
    "        self.__turtle.pendown()\n",
    "        \n",
    "        \n",
    "    def screen_reset(self):\n",
    "        self.__turtle.reset()\n",
    "        "
   ]
  },
  {
   "cell_type": "code",
   "execution_count": 86,
   "id": "8ea0b33b",
   "metadata": {},
   "outputs": [
    {
     "name": "stdout",
     "output_type": "stream",
     "text": [
      "-280 , -20 , 30\n"
     ]
    }
   ],
   "source": [
    "d = Duck()\n",
    "d.display(turtle) #module 정보\n",
    "d.screen_reset()"
   ]
  },
  {
   "cell_type": "code",
   "execution_count": 78,
   "id": "8934cbed",
   "metadata": {},
   "outputs": [
    {
     "name": "stdout",
     "output_type": "stream",
     "text": [
      "-120 , -8 , 30\n",
      "-146 , 196 , 30\n",
      "-104 , -193 , 30\n",
      "-68 , -229 , 30\n",
      "59 , 245 , 30\n",
      "-105 , -237 , 30\n",
      "160 , -93 , 30\n",
      "264 , -94 , 30\n",
      "-36 , -85 , 30\n",
      "-257 , 385 , 30\n",
      "58 , -262 , 30\n",
      "66 , -297 , 30\n",
      "36 , -174 , 30\n",
      "-43 , -258 , 30\n",
      "266 , -83 , 30\n",
      "-184 , 357 , 30\n",
      "90 , -145 , 30\n",
      "344 , 124 , 30\n",
      "-218 , -159 , 30\n"
     ]
    }
   ],
   "source": [
    "# Duck 객체 10마리 만들기\n",
    "    \n",
    "duck_list = []\n",
    "\n",
    "for i in range(0,19):\n",
    "    d = Duck()\n",
    "    d.display(turtle) #module 정보\n",
    "    duck_list.append(Duck())\n",
    "    \n"
   ]
  },
  {
   "cell_type": "code",
   "execution_count": 70,
   "id": "2487efe2",
   "metadata": {},
   "outputs": [
    {
     "name": "stdout",
     "output_type": "stream",
     "text": [
      "-203 , 367 , 30\n",
      "-260 , -183 , 30\n",
      "396 , -353 , 30\n",
      "385 , -68 , 30\n",
      "-236 , -239 , 30\n",
      "258 , 248 , 30\n",
      "-340 , -382 , 30\n",
      "384 , -134 , 30\n",
      "197 , 348 , 30\n",
      "-116 , 351 , 30\n",
      "-377 , -82 , 30\n",
      "104 , 44 , 30\n",
      "138 , 82 , 30\n",
      "136 , 158 , 30\n",
      "144 , 284 , 30\n",
      "350 , 348 , 30\n",
      "-262 , -237 , 30\n",
      "290 , 310 , 30\n",
      "-237 , 169 , 30\n"
     ]
    }
   ],
   "source": [
    "for v in duck_list:\n",
    "    if v != None:\n",
    "        #list내 저장된 object의 주소지\n",
    "        v.display(turtle)"
   ]
  },
  {
   "cell_type": "code",
   "execution_count": 11,
   "id": "60ab919d",
   "metadata": {},
   "outputs": [
    {
     "name": "stdout",
     "output_type": "stream",
     "text": [
      "color: R\n",
      "x= 2  y= 4\n",
      "color: B\n",
      "삑!삑!\n"
     ]
    }
   ],
   "source": [
    "import random\n",
    "\n",
    "class DuckInfo:\n",
    "    def __init__(self):\n",
    "        #color, x, y\n",
    "        self.lst = []\n",
    "        self.pos = []\n",
    "        \n",
    "    @property    \n",
    "    def in_col(self, duck):\n",
    "        self.list.append(duck)\n",
    "        \n",
    "        \n",
    "    @in_col.setter\n",
    "    def in_col(self, lst):\n",
    "        self.__color = lst[0]\n",
    "                           \n",
    "    @property    \n",
    "    def in_pos(self, duck):\n",
    "        self.list.append(duck)\n",
    "        \n",
    "        \n",
    "    @in_pos.setter\n",
    "    def in_pos(self, lst):\n",
    "        self.__x = lst[0]\n",
    "        self.__y = lst[1]\n",
    "                               \n",
    "  \n",
    "    def display(self):\n",
    "        print('color:', self.__color)\n",
    "        \n",
    "    def move(self):\n",
    "        self.__x = random.randint(1,10)\n",
    "        self.__y = random.randint(1,10)\n",
    "        return print('x=',self.__x,' y=', self.__y)\n",
    "        \n",
    "        \n",
    "    def sound(self):\n",
    "        print(\"삑!삑!\")\n",
    "    \n",
    "    \n",
    "    \n",
    "# init\n",
    "RedDuck1 = DuckInfo()\n",
    "RedDuck2 = DuckInfo()\n",
    "RedDuck3 = DuckInfo()\n",
    "RedDuck4 = DuckInfo()\n",
    "RedDuck5 = DuckInfo()\n",
    "\n",
    "BlueDuck1 = DuckInfo()\n",
    "BlueDuck2 = DuckInfo()\n",
    "BlueDuck3 = DuckInfo()\n",
    "BlueDuck4 = DuckInfo()\n",
    "\n",
    "RedDuck1.in_col = [\"R\"]\n",
    "RedDuck2.in_col = [\"R\"]\n",
    "RedDuck3.in_col = [\"R\"]\n",
    "RedDuck4.in_col = [\"R\"]\n",
    "\n",
    "BlueDuck1.in_col = [\"B\"]\n",
    "BlueDuck2.in_col = [\"B\"]\n",
    "BlueDuck3.in_col = [\"B\"]\n",
    "BlueDuck4.in_col = [\"B\"]\n",
    "BlueDuck5.in_col = [\"B\"]\n",
    "\n",
    "RedDuck1.display()\n",
    "RedDuck1.move()\n",
    "\n",
    "BlueDuck1.display()\n",
    "BlueDuck1.sound()\n",
    "\n"
   ]
  },
  {
   "cell_type": "code",
   "execution_count": null,
   "id": "55445497",
   "metadata": {},
   "outputs": [],
   "source": []
  }
 ],
 "metadata": {
  "kernelspec": {
   "display_name": "Python 3",
   "language": "python",
   "name": "python3"
  },
  "language_info": {
   "codemirror_mode": {
    "name": "ipython",
    "version": 3
   },
   "file_extension": ".py",
   "mimetype": "text/x-python",
   "name": "python",
   "nbconvert_exporter": "python",
   "pygments_lexer": "ipython3",
   "version": "3.8.8"
  }
 },
 "nbformat": 4,
 "nbformat_minor": 5
}
