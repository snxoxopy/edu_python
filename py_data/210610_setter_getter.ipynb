{
 "cells": [
  {
   "cell_type": "code",
   "execution_count": 17,
   "id": "1a62afd3",
   "metadata": {},
   "outputs": [],
   "source": [
    "# !pip install random2 #!일시적으로 관리자 권한, 여기서는 안됨"
   ]
  },
  {
   "cell_type": "code",
   "execution_count": 45,
   "id": "ca2eb876",
   "metadata": {},
   "outputs": [
    {
     "name": "stdout",
     "output_type": "stream",
     "text": [
      "23\n",
      "no: 96\n",
      "90 , 35 , 80 = 138\n"
     ]
    }
   ],
   "source": [
    "import  random2 #memory\n",
    "\n",
    "class StudentInfo:\n",
    "    \n",
    "    #ssign the area of memory\n",
    "    #def __new__(cls):\n",
    "    #    print('new')\n",
    "    #    obj = super().__new__(cls)\n",
    "    #    return obj\n",
    "    \n",
    "    def __init__(self):\n",
    "        self.__no = random2.randint(1, 100)\n",
    "        self.__kor = random2.randint(1, 100)\n",
    "        self.__eng = random2.randint(1, 100)\n",
    "        self.__math = random2.randint(1, 100)\n",
    "        self.__total = self.__kor + self.__eng + self.__math\n",
    "        \n",
    "    def display(self):\n",
    "        print('no:', self.__no)\n",
    "        print(self.__kor, ',', self.__eng, ',', self.__math, '=', self.__total)\n",
    "        \n",
    "        \n",
    "\n",
    "    @property\n",
    "    def kor(self):        #getter\n",
    "        \n",
    "        return self.__kor\n",
    "    \n",
    "    @kor.setter\n",
    "    def kor(self, score): #setter\n",
    "        if score >= 0:\n",
    "            self.__kor = score\n",
    "            \n",
    "\n",
    "s1 = StudentInfo()\n",
    "#s2 = StudentInfo()\n",
    "\n",
    "print(s1.kor) # rand\n",
    "s1.kor = 90   # \n",
    "s1.display()"
   ]
  },
  {
   "cell_type": "markdown",
   "id": "42d8b1e9",
   "metadata": {},
   "source": [
    "@property 를 사용하는 목적을 간단하게 정리해보면  \n",
    "\n",
    "1. 변수를 변경 할 때 어떠한 제한을 두고 싶어서\n",
    "2. get,set 함수를 만들지 않고 더 간단하게 접근하게 하기 위해서\n",
    "3. 하위호환성에 도움이 됨. \n",
    "4. 등등 "
   ]
  },
  {
   "cell_type": "markdown",
   "id": "e258905d",
   "metadata": {},
   "source": [
    "@property 사용하지 않고 해보기"
   ]
  },
  {
   "cell_type": "code",
   "execution_count": 44,
   "id": "35794f32",
   "metadata": {},
   "outputs": [
    {
     "name": "stdout",
     "output_type": "stream",
     "text": [
      "no: 35\n",
      "90 , 99 , 3 = 152\n"
     ]
    }
   ],
   "source": [
    "class StudentInfo:\n",
    "    \n",
    "    #ssign the area of memory\n",
    "    #def __new__(cls):\n",
    "    #    print('new')\n",
    "    #    obj = super().__new__(cls)\n",
    "    #    return obj\n",
    "    \n",
    "    def __init__(self):\n",
    "        self.__no = random2.randint(1, 100)\n",
    "        self.__kor = random2.randint(1, 100)\n",
    "        self.__eng = random2.randint(1, 100)\n",
    "        self.__math = random2.randint(1, 100)\n",
    "        self.__total = self.__kor + self.__eng + self.__math\n",
    "        \n",
    "    def display(self):\n",
    "        print('no:', self.__no)\n",
    "        print(self.__kor, ',', self.__eng, ',', self.__math, '=', self.__total)\n",
    "        \n",
    "    def set_kor(self, score):\n",
    "        if score >= 0:\n",
    "            self.__kor = score        \n",
    "        \n",
    "    def get_kor(self):\n",
    "        return self.__kor\n",
    "\n",
    "\n",
    "    \n",
    "\n",
    "s3 = StudentInfo()\n",
    "s3.set_kor(90)\n",
    "s3.display()"
   ]
  },
  {
   "cell_type": "code",
   "execution_count": null,
   "id": "0c1f2314",
   "metadata": {},
   "outputs": [],
   "source": []
  }
 ],
 "metadata": {
  "kernelspec": {
   "display_name": "Python 3",
   "language": "python",
   "name": "python3"
  },
  "language_info": {
   "codemirror_mode": {
    "name": "ipython",
    "version": 3
   },
   "file_extension": ".py",
   "mimetype": "text/x-python",
   "name": "python",
   "nbconvert_exporter": "python",
   "pygments_lexer": "ipython3",
   "version": "3.8.8"
  }
 },
 "nbformat": 4,
 "nbformat_minor": 5
}
