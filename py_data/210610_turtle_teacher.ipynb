{
 "cells": [
  {
   "cell_type": "code",
   "execution_count": 4,
   "id": "d90d4f13",
   "metadata": {},
   "outputs": [],
   "source": [
    "#super class <-> sub class(Top --> Down)\n",
    "import random\n",
    "import turtle\n",
    "\n",
    "class Duck:\n",
    "    \n",
    "    color_list = ['red','green','pink', 'purple']\n",
    "    \n",
    "    def __init__(self, turtle):\n",
    "        self.x = random.randint(-300,300)\n",
    "        self.y = random.randint(-300,300)\n",
    "        self.size = 30\n",
    "        self.__turtle = turtle\n",
    "        self.__color = random.randint(0,3)\n",
    "    \n",
    "    def display(self):\n",
    "        self.__turtle.penup()\n",
    "        self.__turtle.goto(self.x, self.y)\n",
    "        self.__turtle.pendown()\n",
    "        \n",
    "        self.__turtle.color(Duck.color_list[self.__color])\n",
    "        self.__turtle.begin_fill()\n",
    "        self.__turtle.circle(self.size)\n",
    "        self.__turtle.end_fill()\n",
    "        \n",
    "        self.__turtle.penup()\n",
    "        self.__turtle.goto(self.x + 30, self.y + 50)\n",
    "        self.__turtle.pendown()\n",
    "        self.__turtle.write(\"quack~quack~\")  #print text\n",
    "        \n",
    "    def screen_reset(self):\n",
    "        self.__turtle.reset()\n",
    "\n",
    "\n",
    "#Duck 객체 10마리 만들기\n",
    "duck_list =[]\n",
    "for i in range(0,10):\n",
    "    duck_list.append(Duck(turtle))\n",
    "\n",
    "\n",
    "for v in duck_list:\n",
    "    if v != None:\n",
    "        v.display()"
   ]
  },
  {
   "cell_type": "code",
   "execution_count": null,
   "id": "e61de8e0",
   "metadata": {},
   "outputs": [],
   "source": []
  }
 ],
 "metadata": {
  "kernelspec": {
   "display_name": "Python 3",
   "language": "python",
   "name": "python3"
  },
  "language_info": {
   "codemirror_mode": {
    "name": "ipython",
    "version": 3
   },
   "file_extension": ".py",
   "mimetype": "text/x-python",
   "name": "python",
   "nbconvert_exporter": "python",
   "pygments_lexer": "ipython3",
   "version": "3.8.8"
  }
 },
 "nbformat": 4,
 "nbformat_minor": 5
}
