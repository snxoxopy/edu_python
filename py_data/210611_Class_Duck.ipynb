{
 "cells": [
  {
   "cell_type": "code",
   "execution_count": 4,
   "id": "ea156fce",
   "metadata": {},
   "outputs": [],
   "source": [
    "import random\n",
    "\n",
    "class Duck:\n",
    "    \n",
    "    DUCK_SIZE = 30\n",
    "    \n",
    "    def  __init__(self):\n",
    "        self.x = random.randint(-300,300)\n",
    "        self.y = random.randint(-300,300)\n",
    "    \n",
    "    def display(self):\n",
    "        print(self.x, ',', self.y, ':', Duck.DUCK_SIZE)\n",
    "        "
   ]
  },
  {
   "cell_type": "code",
   "execution_count": 5,
   "id": "7ea402ba",
   "metadata": {},
   "outputs": [
    {
     "name": "stdout",
     "output_type": "stream",
     "text": [
      "-274 , -97 : 30\n"
     ]
    }
   ],
   "source": [
    "d = Duck()\n",
    "d.display()"
   ]
  },
  {
   "cell_type": "code",
   "execution_count": null,
   "id": "7c94c13b",
   "metadata": {},
   "outputs": [],
   "source": []
  }
 ],
 "metadata": {
  "kernelspec": {
   "display_name": "Python 3",
   "language": "python",
   "name": "python3"
  },
  "language_info": {
   "codemirror_mode": {
    "name": "ipython",
    "version": 3
   },
   "file_extension": ".py",
   "mimetype": "text/x-python",
   "name": "python",
   "nbconvert_exporter": "python",
   "pygments_lexer": "ipython3",
   "version": "3.8.8"
  }
 },
 "nbformat": 4,
 "nbformat_minor": 5
}
