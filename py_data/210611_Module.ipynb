{
 "cells": [
  {
   "cell_type": "markdown",
   "id": "322ac188",
   "metadata": {},
   "source": [
    "# Module"
   ]
  },
  {
   "cell_type": "markdown",
   "id": "ee7422dd",
   "metadata": {},
   "source": [
    "모듈이란 함수나 변수 또는 클래스를 모아 놓은 파일  \n",
    "독립적으로 재사횽 할 수 있도록 함  "
   ]
  },
  {
   "cell_type": "code",
   "execution_count": 4,
   "id": "fd25c430",
   "metadata": {},
   "outputs": [
    {
     "name": "stdout",
     "output_type": "stream",
     "text": [
      "9\n",
      "2\n"
     ]
    }
   ],
   "source": [
    "import mod1\n",
    "\n",
    "print(mod1.add(4,5))\n",
    "print(mod1.sub(4,2))\n",
    "\n"
   ]
  },
  {
   "cell_type": "markdown",
   "id": "3ad1c7ee",
   "metadata": {},
   "source": [
    "if __name__ == \"__main__\": 의 의미"
   ]
  },
  {
   "cell_type": "markdown",
   "id": "f1c8c3c4",
   "metadata": {},
   "source": [
    "if __name__ == \"__main__\"을 사용하면  \n",
    "C:\\doit>python mod1.py처럼  \n",
    "직접 이 파일을 실행했을 때는 __name__ == \"__main__\"이 참이 되어 if문 다음 문장이 수행된다.  \n",
    "반대로 대화형 인터프리터나 다른 파일에서 이 모듈을 불러서 사용할 때는 __name__ == \"__main__\"이 거짓이 되어  \n",
    "if문 다음 문장이 수행되지 않는다."
   ]
  },
  {
   "cell_type": "code",
   "execution_count": 9,
   "id": "bc86cd27",
   "metadata": {},
   "outputs": [],
   "source": [
    "import mod1"
   ]
  },
  {
   "cell_type": "markdown",
   "id": "baa407a4",
   "metadata": {},
   "source": [
    "아무 결괏값도 출력되지 않는 것을 확인할 수 있다."
   ]
  },
  {
   "cell_type": "code",
   "execution_count": 29,
   "id": "c6e4fa0b",
   "metadata": {},
   "outputs": [],
   "source": [
    "from mod1 import add"
   ]
  },
  {
   "cell_type": "code",
   "execution_count": 30,
   "id": "47231689",
   "metadata": {},
   "outputs": [
    {
     "data": {
      "text/plain": [
       "7"
      ]
     },
     "execution_count": 30,
     "metadata": {},
     "output_type": "execute_result"
    }
   ],
   "source": [
    "add(3,4)"
   ]
  },
  {
   "cell_type": "code",
   "execution_count": 31,
   "id": "d8d39641",
   "metadata": {},
   "outputs": [
    {
     "data": {
      "text/plain": [
       "10"
      ]
     },
     "execution_count": 31,
     "metadata": {},
     "output_type": "execute_result"
    }
   ],
   "source": [
    "add(6,4)"
   ]
  },
  {
   "cell_type": "code",
   "execution_count": 43,
   "id": "f4c9c663",
   "metadata": {},
   "outputs": [],
   "source": [
    "import mod2"
   ]
  },
  {
   "cell_type": "code",
   "execution_count": 44,
   "id": "6b4d640a",
   "metadata": {},
   "outputs": [],
   "source": [
    "a = mod2.Math()"
   ]
  },
  {
   "cell_type": "code",
   "execution_count": 45,
   "id": "bbc52905",
   "metadata": {},
   "outputs": [
    {
     "name": "stdout",
     "output_type": "stream",
     "text": [
      "12.566368\n"
     ]
    }
   ],
   "source": [
    "PI = 3.141592\n",
    "class Math:\n",
    "    def solv(self,f):\n",
    "        return PI*(f**2)\n",
    "    \n",
    "def add(a,b):\n",
    "    return a+b\n",
    "\n",
    "\n",
    "if __name__ == '__main__':\n",
    "    s = Math()\n",
    "    print(s.solv(2))\n"
   ]
  },
  {
   "cell_type": "code",
   "execution_count": null,
   "id": "ccfce846",
   "metadata": {},
   "outputs": [],
   "source": []
  }
 ],
 "metadata": {
  "kernelspec": {
   "display_name": "Python 3",
   "language": "python",
   "name": "python3"
  },
  "language_info": {
   "codemirror_mode": {
    "name": "ipython",
    "version": 3
   },
   "file_extension": ".py",
   "mimetype": "text/x-python",
   "name": "python",
   "nbconvert_exporter": "python",
   "pygments_lexer": "ipython3",
   "version": "3.8.8"
  }
 },
 "nbformat": 4,
 "nbformat_minor": 5
}
