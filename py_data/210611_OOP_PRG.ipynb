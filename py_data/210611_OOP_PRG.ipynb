{
 "cells": [
  {
   "cell_type": "code",
   "execution_count": 1,
   "id": "9a7cc86f",
   "metadata": {},
   "outputs": [
    {
     "name": "stdout",
     "output_type": "stream",
     "text": [
      "10\n"
     ]
    }
   ],
   "source": [
    "class Duck:\n",
    "\tdef __init__(self):\n",
    "\t\tself.x = 10\n",
    "\t\n",
    "\tdef display(self):\n",
    "\t\tprint(self.x)\n",
    "\n",
    "class MallardDuck(Duck):\n",
    "\tpass\n",
    "\n",
    "md = MallardDuck()\n",
    "md.display()\n"
   ]
  },
  {
   "cell_type": "code",
   "execution_count": null,
   "id": "6677ebf9",
   "metadata": {},
   "outputs": [],
   "source": []
  }
 ],
 "metadata": {
  "kernelspec": {
   "display_name": "Python 3",
   "language": "python",
   "name": "python3"
  },
  "language_info": {
   "codemirror_mode": {
    "name": "ipython",
    "version": 3
   },
   "file_extension": ".py",
   "mimetype": "text/x-python",
   "name": "python",
   "nbconvert_exporter": "python",
   "pygments_lexer": "ipython3",
   "version": "3.8.8"
  }
 },
 "nbformat": 4,
 "nbformat_minor": 5
}
