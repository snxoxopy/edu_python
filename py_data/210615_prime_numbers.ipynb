{
 "cells": [
  {
   "cell_type": "markdown",
   "id": "18bba0ca",
   "metadata": {},
   "source": [
    "# 문제 설명"
   ]
  },
  {
   "cell_type": "markdown",
   "id": "4c425217",
   "metadata": {},
   "source": [
    "주어진 숫자 중 3개의 수를 더했을 때 소수가 되는 경우의 개수를 구하려고 합니다. 숫자들이 들어있는 배열 nums가 매개변수로 주어질 때, nums에 있는 숫자들 중 서로 다른 3개를 골라 더했을 때 소수가 되는 경우의 개수를 return 하도록 solution 함수를 완성해주세요."
   ]
  },
  {
   "cell_type": "markdown",
   "id": "471d916b",
   "metadata": {},
   "source": [
    "nums에 들어있는 숫자의 개수는 3개 이상 50개 이하입니다.\n",
    "nums의 각 원소는 1 이상 1,000 이하의 자연수이며, 중복된 숫자가 들어있지 않습니다."
   ]
  },
  {
   "cell_type": "code",
   "execution_count": 3,
   "id": "cb35750f",
   "metadata": {},
   "outputs": [],
   "source": [
    "num = [1,2,3,4]"
   ]
  },
  {
   "cell_type": "code",
   "execution_count": 4,
   "id": "8bee8256",
   "metadata": {},
   "outputs": [],
   "source": [
    "def solution(nums):\n",
    "\n",
    "    \n",
    "    for num in nums:\n",
    "        print(num)\n",
    "\n",
    "    return answer"
   ]
  },
  {
   "cell_type": "code",
   "execution_count": 5,
   "id": "0dcacd31",
   "metadata": {},
   "outputs": [
    {
     "name": "stdout",
     "output_type": "stream",
     "text": [
      "1\n",
      "2\n",
      "3\n",
      "4\n",
      "Hello Python\n"
     ]
    },
    {
     "data": {
      "text/plain": [
       "-1"
      ]
     },
     "execution_count": 5,
     "metadata": {},
     "output_type": "execute_result"
    }
   ],
   "source": [
    "solution(num)"
   ]
  },
  {
   "cell_type": "code",
   "execution_count": 7,
   "id": "17ff4c9d",
   "metadata": {},
   "outputs": [
    {
     "name": "stdout",
     "output_type": "stream",
     "text": [
      "[[1, 2, 3], [1, 3, 2], [2, 1, 3], [2, 3, 1], [3, 1, 2], [3, 2, 1]]\n"
     ]
    }
   ],
   "source": [
    "def permute(nums, r) :\n",
    "    results = []\n",
    "    prev_elements = []\n",
    "    \n",
    "    def dfs(elements) :\n",
    "        if len(elements) == (len(nums) - r) :\n",
    "            results.append(prev_elements[:])\n",
    "        \n",
    "        for e in elements :\n",
    "            next_elements = elements[:]\n",
    "            next_elements.remove(e)\n",
    "            \n",
    "            prev_elements.append(e)\n",
    "            dfs(next_elements)\n",
    "            prev_elements.pop()\n",
    "            \n",
    "    dfs(nums)\n",
    "    return results\n",
    "\n",
    "print(permute([1,2,3],3))"
   ]
  },
  {
   "cell_type": "code",
   "execution_count": 9,
   "id": "0aac01b4",
   "metadata": {},
   "outputs": [
    {
     "name": "stdout",
     "output_type": "stream",
     "text": [
      "[['A', ['B', 'C']], ['A', ['B', 'D']], ['A', ['C', 'D']], ['B', ['C', 'D']]]\n"
     ]
    }
   ],
   "source": [
    "# 2. 재귀 이용 def solution(arr): n = len(arr) picked = [] start = 0 def recur(start, n): # basecase if len(picked) == 2: print(picked) return # 1개선택 for i in range(start, n): picked.append(i) # 재귀하면서 나머지 원소 선택 start = picked[-1] + 1 recur(start, n) picked.pop() recur(start, n) solution([0,1,2,3,4])\n",
    "\n",
    "출처: https://deftkang.tistory.com/179 [deftkang의 IT 블로그]"
   ]
  },
  {
   "cell_type": "code",
   "execution_count": null,
   "id": "a5eab2dd",
   "metadata": {},
   "outputs": [],
   "source": []
  }
 ],
 "metadata": {
  "kernelspec": {
   "display_name": "Python 3",
   "language": "python",
   "name": "python3"
  },
  "language_info": {
   "codemirror_mode": {
    "name": "ipython",
    "version": 3
   },
   "file_extension": ".py",
   "mimetype": "text/x-python",
   "name": "python",
   "nbconvert_exporter": "python",
   "pygments_lexer": "ipython3",
   "version": "3.8.8"
  }
 },
 "nbformat": 4,
 "nbformat_minor": 5
}
