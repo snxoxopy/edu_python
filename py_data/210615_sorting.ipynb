{
 "cells": [
  {
   "cell_type": "code",
   "execution_count": 23,
   "id": "d7053a96",
   "metadata": {},
   "outputs": [],
   "source": [
    "input_list = [5, 2, 3, 4, 1]\n",
    "i = 0\n",
    "input_list[0] = 5\n",
    "\n",
    "\n",
    "j = 1,2,3,4\n",
    "input_list[1] = 2\n",
    "input_list[2] = 3\n",
    "input_list[3] = 4\n",
    "input_list[4] = 1\n",
    "\n",
    "\n",
    "array = []\n",
    "\n",
    "\n",
    "\n",
    "n = 5\n",
    "\n",
    "for i in range(0,n):\n",
    "    array.append(input_list[i])"
   ]
  },
  {
   "cell_type": "code",
   "execution_count": 24,
   "id": "a9498f1c",
   "metadata": {},
   "outputs": [
    {
     "data": {
      "text/plain": [
       "[5, 2, 3, 4, 1]"
      ]
     },
     "execution_count": 24,
     "metadata": {},
     "output_type": "execute_result"
    }
   ],
   "source": [
    "array"
   ]
  },
  {
   "cell_type": "code",
   "execution_count": 42,
   "id": "ce171a99",
   "metadata": {},
   "outputs": [
    {
     "name": "stdout",
     "output_type": "stream",
     "text": [
      "min_index= 0\n",
      "input_list[min_index] 2\n",
      "input_list[j] 2\n",
      "min_index= 1\n",
      "input_list[min_index] 1\n",
      "input_list[j] 1\n",
      "min_index= 4\n",
      "min_index= 1\n",
      "input_list[min_index] 1\n",
      "input_list[j] 1\n",
      "min_index= 4\n",
      "min_index= 2\n",
      "input_list[min_index] 1\n",
      "input_list[j] 1\n",
      "min_index= 4\n",
      "min_index= 3\n",
      "input_list[min_index] 1\n",
      "input_list[j] 1\n",
      "min_index= 4\n",
      "min_index= 4\n"
     ]
    }
   ],
   "source": [
    "for i in range(n):\n",
    "    min_index = i\n",
    "    print('min_index=',min_index)\n",
    "\n",
    "    for j in range(i+1, n):\n",
    "        if input_list[min_index] > input_list[j]:\n",
    "            min_index = j\n",
    "            print('input_list[min_index]',input_list[min_index])\n",
    "            print('input_list[j]', input_list[j])\n",
    "            print('min_index=',min_index)"
   ]
  },
  {
   "cell_type": "code",
   "execution_count": 37,
   "id": "28c10630",
   "metadata": {},
   "outputs": [
    {
     "name": "stdout",
     "output_type": "stream",
     "text": [
      "5\n",
      "2\n",
      "3\n",
      "4\n",
      "1\n"
     ]
    }
   ],
   "source": [
    "for i in range(n):\n",
    "    print(i) #index\n",
    "    print(input_list[i]) #value"
   ]
  },
  {
   "cell_type": "code",
   "execution_count": 38,
   "id": "657d65cb",
   "metadata": {},
   "outputs": [
    {
     "name": "stdout",
     "output_type": "stream",
     "text": [
      "hi\n",
      "hi\n",
      "hi\n",
      "hi\n",
      "hi\n"
     ]
    }
   ],
   "source": [
    "for i in range(n):\n",
    "    print(\"hi\")"
   ]
  },
  {
   "cell_type": "code",
   "execution_count": null,
   "id": "aac5f8b0",
   "metadata": {},
   "outputs": [],
   "source": []
  }
 ],
 "metadata": {
  "kernelspec": {
   "display_name": "Python 3",
   "language": "python",
   "name": "python3"
  },
  "language_info": {
   "codemirror_mode": {
    "name": "ipython",
    "version": 3
   },
   "file_extension": ".py",
   "mimetype": "text/x-python",
   "name": "python",
   "nbconvert_exporter": "python",
   "pygments_lexer": "ipython3",
   "version": "3.8.8"
  }
 },
 "nbformat": 4,
 "nbformat_minor": 5
}
