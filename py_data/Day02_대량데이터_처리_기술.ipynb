{
 "cells": [
  {
   "cell_type": "markdown",
   "id": "b5f48a8c",
   "metadata": {},
   "source": [
    "# 대량 데이터 처리 기술"
   ]
  },
  {
   "cell_type": "markdown",
   "id": "94db72f0",
   "metadata": {},
   "source": [
    "변수에 여러 데이터를 담아 하나의 이름으로 데이터를 다루는 기술"
   ]
  },
  {
   "cell_type": "code",
   "execution_count": 3,
   "id": "a0f656d3",
   "metadata": {},
   "outputs": [],
   "source": [
    "a = [1,2,3,5]"
   ]
  },
  {
   "cell_type": "code",
   "execution_count": 4,
   "id": "52c3d088",
   "metadata": {},
   "outputs": [
    {
     "data": {
      "text/plain": [
       "[1, 2, 3, 5]"
      ]
     },
     "execution_count": 4,
     "metadata": {},
     "output_type": "execute_result"
    }
   ],
   "source": [
    "a"
   ]
  },
  {
   "cell_type": "markdown",
   "id": "efbd14f6",
   "metadata": {},
   "source": [
    "문자열\n",
    "'를 문자열 안에 담아야 할 경우"
   ]
  },
  {
   "cell_type": "code",
   "execution_count": 6,
   "id": "b303d771",
   "metadata": {},
   "outputs": [],
   "source": [
    "food=\"python's favorite food'\""
   ]
  },
  {
   "cell_type": "code",
   "execution_count": 7,
   "id": "63f5be9d",
   "metadata": {},
   "outputs": [
    {
     "name": "stdout",
     "output_type": "stream",
     "text": [
      "python's favorite food'\n"
     ]
    }
   ],
   "source": [
    "print(food)"
   ]
  },
  {
   "cell_type": "markdown",
   "id": "a4e6faa3",
   "metadata": {},
   "source": [
    "문자열\n",
    "\"를 문자열 안에 담아야 할 경우"
   ]
  },
  {
   "cell_type": "code",
   "execution_count": 8,
   "id": "1f1c3963",
   "metadata": {},
   "outputs": [],
   "source": [
    "food = 'he said, \"Hello world!\"'"
   ]
  },
  {
   "cell_type": "code",
   "execution_count": 9,
   "id": "b3c20fbe",
   "metadata": {},
   "outputs": [
    {
     "name": "stdout",
     "output_type": "stream",
     "text": [
      "he said, \"Hello world!\"\n"
     ]
    }
   ],
   "source": [
    "print(food)"
   ]
  },
  {
   "cell_type": "markdown",
   "id": "342244df",
   "metadata": {},
   "source": [
    "문자열 연산하기\n",
    "Concatenation"
   ]
  },
  {
   "cell_type": "code",
   "execution_count": 10,
   "id": "fc19735f",
   "metadata": {},
   "outputs": [],
   "source": [
    "head = \"python\""
   ]
  },
  {
   "cell_type": "code",
   "execution_count": 13,
   "id": "30c2592c",
   "metadata": {},
   "outputs": [],
   "source": [
    "tail = \" is fun\""
   ]
  },
  {
   "cell_type": "code",
   "execution_count": 14,
   "id": "da7d1aca",
   "metadata": {},
   "outputs": [
    {
     "data": {
      "text/plain": [
       "'python is fun'"
      ]
     },
     "execution_count": 14,
     "metadata": {},
     "output_type": "execute_result"
    }
   ],
   "source": [
    "head + tail"
   ]
  },
  {
   "cell_type": "code",
   "execution_count": 16,
   "id": "c0895455",
   "metadata": {},
   "outputs": [],
   "source": [
    "bin1 = \"suzinee\"\n",
    "bin2 = '@'\n",
    "bin3 = \"instagram: \""
   ]
  },
  {
   "cell_type": "code",
   "execution_count": 17,
   "id": "9e422086",
   "metadata": {},
   "outputs": [
    {
     "data": {
      "text/plain": [
       "'instagram: @suzinee'"
      ]
     },
     "execution_count": 17,
     "metadata": {},
     "output_type": "execute_result"
    }
   ],
   "source": [
    "bin3 + bin2 + bin1"
   ]
  },
  {
   "cell_type": "markdown",
   "id": "062aa314",
   "metadata": {},
   "source": [
    "문자열 곱하기"
   ]
  },
  {
   "cell_type": "code",
   "execution_count": 18,
   "id": "595e21f8",
   "metadata": {},
   "outputs": [],
   "source": [
    "a = \"python\""
   ]
  },
  {
   "cell_type": "code",
   "execution_count": 19,
   "id": "f43663d7",
   "metadata": {},
   "outputs": [
    {
     "data": {
      "text/plain": [
       "'pythonpython'"
      ]
     },
     "execution_count": 19,
     "metadata": {},
     "output_type": "execute_result"
    }
   ],
   "source": [
    "a * 2"
   ]
  },
  {
   "cell_type": "code",
   "execution_count": 20,
   "id": "dd976255",
   "metadata": {},
   "outputs": [
    {
     "name": "stdout",
     "output_type": "stream",
     "text": [
      "pythonpython\n"
     ]
    }
   ],
   "source": [
    "print(a*2)"
   ]
  },
  {
   "cell_type": "code",
   "execution_count": 23,
   "id": "c377f231",
   "metadata": {},
   "outputs": [
    {
     "name": "stdout",
     "output_type": "stream",
     "text": [
      "------------------------------\n"
     ]
    }
   ],
   "source": [
    "print('-'*30)"
   ]
  },
  {
   "cell_type": "code",
   "execution_count": 24,
   "id": "53bf58df",
   "metadata": {},
   "outputs": [
    {
     "name": "stdout",
     "output_type": "stream",
     "text": [
      "개쩌네\n"
     ]
    }
   ],
   "source": [
    "print(\"개쩌네\")"
   ]
  },
  {
   "cell_type": "code",
   "execution_count": 25,
   "id": "ae1c976d",
   "metadata": {},
   "outputs": [],
   "source": [
    "a = \"Life is too short.\""
   ]
  },
  {
   "cell_type": "code",
   "execution_count": 26,
   "id": "796cd32f",
   "metadata": {},
   "outputs": [
    {
     "data": {
      "text/plain": [
       "18"
      ]
     },
     "execution_count": 26,
     "metadata": {},
     "output_type": "execute_result"
    }
   ],
   "source": [
    "len(a)"
   ]
  },
  {
   "cell_type": "markdown",
   "id": "bb62a519",
   "metadata": {},
   "source": [
    "len() 함수는 내장형 -> 별도로 memory에 load하지 않아도 사용할 수 있음"
   ]
  },
  {
   "cell_type": "markdown",
   "id": "5f489614",
   "metadata": {},
   "source": [
    "문자열 인덱싱과 슬라이싱  \n",
    "indexing 이란? 가르킨다는 의미  \n",
    "slicing 이란? 잘라낸다는 의미  "
   ]
  },
  {
   "cell_type": "code",
   "execution_count": 27,
   "id": "49bcf660",
   "metadata": {},
   "outputs": [],
   "source": [
    "a = \"Life is too short, You need Python\""
   ]
  },
  {
   "cell_type": "code",
   "execution_count": 28,
   "id": "ef653e09",
   "metadata": {},
   "outputs": [
    {
     "data": {
      "text/plain": [
       "'L'"
      ]
     },
     "execution_count": 28,
     "metadata": {},
     "output_type": "execute_result"
    }
   ],
   "source": [
    "a[0]"
   ]
  },
  {
   "cell_type": "code",
   "execution_count": 30,
   "id": "7900b051",
   "metadata": {},
   "outputs": [
    {
     "data": {
      "text/plain": [
       "'n'"
      ]
     },
     "execution_count": 30,
     "metadata": {},
     "output_type": "execute_result"
    }
   ],
   "source": [
    "a[-1]"
   ]
  },
  {
   "cell_type": "code",
   "execution_count": 31,
   "id": "cfde14fa",
   "metadata": {},
   "outputs": [
    {
     "data": {
      "text/plain": [
       "'Lif'"
      ]
     },
     "execution_count": 31,
     "metadata": {},
     "output_type": "execute_result"
    }
   ],
   "source": [
    "a[0:3]"
   ]
  },
  {
   "cell_type": "code",
   "execution_count": 32,
   "id": "ab11985f",
   "metadata": {},
   "outputs": [
    {
     "data": {
      "text/plain": [
       "''"
      ]
     },
     "execution_count": 32,
     "metadata": {},
     "output_type": "execute_result"
    }
   ],
   "source": [
    "a[-1:-4]"
   ]
  },
  {
   "cell_type": "code",
   "execution_count": 33,
   "id": "0a583ed8",
   "metadata": {},
   "outputs": [
    {
     "data": {
      "text/plain": [
       "'o'"
      ]
     },
     "execution_count": 33,
     "metadata": {},
     "output_type": "execute_result"
    }
   ],
   "source": [
    "a[-2:-1]"
   ]
  },
  {
   "cell_type": "code",
   "execution_count": 34,
   "id": "cf83cd01",
   "metadata": {},
   "outputs": [
    {
     "data": {
      "text/plain": [
       "'ho'"
      ]
     },
     "execution_count": 34,
     "metadata": {},
     "output_type": "execute_result"
    }
   ],
   "source": [
    "a[-3:-1]"
   ]
  },
  {
   "cell_type": "code",
   "execution_count": 35,
   "id": "e189b1d8",
   "metadata": {},
   "outputs": [
    {
     "data": {
      "text/plain": [
       "''"
      ]
     },
     "execution_count": 35,
     "metadata": {},
     "output_type": "execute_result"
    }
   ],
   "source": [
    "a[-3:0]"
   ]
  },
  {
   "cell_type": "code",
   "execution_count": 36,
   "id": "eefc5cb2",
   "metadata": {},
   "outputs": [
    {
     "data": {
      "text/plain": [
       "''"
      ]
     },
     "execution_count": 36,
     "metadata": {},
     "output_type": "execute_result"
    }
   ],
   "source": [
    "a[-3:1]"
   ]
  },
  {
   "cell_type": "code",
   "execution_count": 37,
   "id": "c0595526",
   "metadata": {},
   "outputs": [
    {
     "data": {
      "text/plain": [
       "''"
      ]
     },
     "execution_count": 37,
     "metadata": {},
     "output_type": "execute_result"
    }
   ],
   "source": [
    "a[-3:-0]"
   ]
  },
  {
   "cell_type": "code",
   "execution_count": 38,
   "id": "35f0de7e",
   "metadata": {},
   "outputs": [
    {
     "data": {
      "text/plain": [
       "'hon'"
      ]
     },
     "execution_count": 38,
     "metadata": {},
     "output_type": "execute_result"
    }
   ],
   "source": [
    "a[-3:]"
   ]
  },
  {
   "cell_type": "code",
   "execution_count": 39,
   "id": "15ca5a37",
   "metadata": {},
   "outputs": [
    {
     "data": {
      "text/plain": [
       "'Life'"
      ]
     },
     "execution_count": 39,
     "metadata": {},
     "output_type": "execute_result"
    }
   ],
   "source": [
    "a[0:4]"
   ]
  },
  {
   "cell_type": "markdown",
   "id": "a973c35a",
   "metadata": {},
   "source": [
    "[0:4] 0 <= n < 4 \n",
    "0부터 3까지 읽어들인다."
   ]
  },
  {
   "cell_type": "code",
   "execution_count": 40,
   "id": "7ca1ab5a",
   "metadata": {},
   "outputs": [
    {
     "data": {
      "text/plain": [
       "'Life is too short, You need Python'"
      ]
     },
     "execution_count": 40,
     "metadata": {},
     "output_type": "execute_result"
    }
   ],
   "source": [
    "a[:]"
   ]
  },
  {
   "cell_type": "code",
   "execution_count": 41,
   "id": "ab1001f9",
   "metadata": {},
   "outputs": [
    {
     "data": {
      "text/plain": [
       "'You need'"
      ]
     },
     "execution_count": 41,
     "metadata": {},
     "output_type": "execute_result"
    }
   ],
   "source": [
    "a[19:-7]"
   ]
  },
  {
   "cell_type": "markdown",
   "id": "4af4e45a",
   "metadata": {},
   "source": [
    "-8번째 까지 읽는다."
   ]
  },
  {
   "cell_type": "code",
   "execution_count": 44,
   "id": "e001f992",
   "metadata": {},
   "outputs": [
    {
     "data": {
      "text/plain": [
       "34"
      ]
     },
     "execution_count": 44,
     "metadata": {},
     "output_type": "execute_result"
    }
   ],
   "source": [
    "len(a)\n",
    "lna=len(a)"
   ]
  },
  {
   "cell_type": "code",
   "execution_count": 45,
   "id": "d69c405b",
   "metadata": {},
   "outputs": [
    {
     "data": {
      "text/plain": [
       "' Python'"
      ]
     },
     "execution_count": 45,
     "metadata": {},
     "output_type": "execute_result"
    }
   ],
   "source": [
    "a[-7:lna]"
   ]
  },
  {
   "cell_type": "code",
   "execution_count": 46,
   "id": "89305954",
   "metadata": {},
   "outputs": [
    {
     "data": {
      "text/plain": [
       "' Python'"
      ]
     },
     "execution_count": 46,
     "metadata": {},
     "output_type": "execute_result"
    }
   ],
   "source": [
    "a[-7:len(a)]"
   ]
  },
  {
   "cell_type": "markdown",
   "id": "1b9db0ed",
   "metadata": {},
   "source": [
    "slicing으로 문자열 나누기"
   ]
  },
  {
   "cell_type": "code",
   "execution_count": 47,
   "id": "87476387",
   "metadata": {},
   "outputs": [],
   "source": [
    "a = \"20010331Rainy\""
   ]
  },
  {
   "cell_type": "code",
   "execution_count": 50,
   "id": "a4d12a8e",
   "metadata": {},
   "outputs": [],
   "source": [
    "date = a[:8]"
   ]
  },
  {
   "cell_type": "code",
   "execution_count": 51,
   "id": "1142ee3a",
   "metadata": {},
   "outputs": [],
   "source": [
    "weather = a[8:]"
   ]
  },
  {
   "cell_type": "code",
   "execution_count": 52,
   "id": "58bb036a",
   "metadata": {},
   "outputs": [
    {
     "data": {
      "text/plain": [
       "'20010331'"
      ]
     },
     "execution_count": 52,
     "metadata": {},
     "output_type": "execute_result"
    }
   ],
   "source": [
    "date"
   ]
  },
  {
   "cell_type": "code",
   "execution_count": 53,
   "id": "386e88d8",
   "metadata": {},
   "outputs": [
    {
     "data": {
      "text/plain": [
       "'Rainy'"
      ]
     },
     "execution_count": 53,
     "metadata": {},
     "output_type": "execute_result"
    }
   ],
   "source": [
    "weather"
   ]
  },
  {
   "cell_type": "code",
   "execution_count": 54,
   "id": "49c2171f",
   "metadata": {},
   "outputs": [],
   "source": [
    "year = a[:4]"
   ]
  },
  {
   "cell_type": "code",
   "execution_count": 55,
   "id": "c2f366be",
   "metadata": {},
   "outputs": [],
   "source": [
    "day = a[4:8]"
   ]
  },
  {
   "cell_type": "code",
   "execution_count": 56,
   "id": "cde3053b",
   "metadata": {},
   "outputs": [],
   "source": [
    "weather = a[8:]"
   ]
  },
  {
   "cell_type": "code",
   "execution_count": 57,
   "id": "861757ca",
   "metadata": {},
   "outputs": [
    {
     "data": {
      "text/plain": [
       "'2001'"
      ]
     },
     "execution_count": 57,
     "metadata": {},
     "output_type": "execute_result"
    }
   ],
   "source": [
    "year"
   ]
  },
  {
   "cell_type": "markdown",
   "id": "b7093994",
   "metadata": {},
   "source": [
    "문자열 포매팅"
   ]
  },
  {
   "cell_type": "code",
   "execution_count": 58,
   "id": "dc0b201a",
   "metadata": {},
   "outputs": [
    {
     "data": {
      "text/plain": [
       "'I ate 10 apples. so I was sick for three days.'"
      ]
     },
     "execution_count": 58,
     "metadata": {},
     "output_type": "execute_result"
    }
   ],
   "source": [
    "number = 10\n",
    "day = \"three\"\n",
    "\"I ate %d apples. so I was sick for %s days.\" % (number, day)"
   ]
  },
  {
   "cell_type": "markdown",
   "id": "9228a31c",
   "metadata": {},
   "source": [
    "python은 객체지향언어   \n",
    "이름으로 넣기 예제"
   ]
  },
  {
   "cell_type": "code",
   "execution_count": 59,
   "id": "c1dcb6c6",
   "metadata": {},
   "outputs": [
    {
     "data": {
      "text/plain": [
       "'I ate 10 apples. so I was sick for 3 days.'"
      ]
     },
     "execution_count": 59,
     "metadata": {},
     "output_type": "execute_result"
    }
   ],
   "source": [
    "\"I ate {number} apples. so I was sick for {day} days.\".format(number=10, day=3)"
   ]
  },
  {
   "cell_type": "code",
   "execution_count": 60,
   "id": "91404656",
   "metadata": {},
   "outputs": [],
   "source": [
    "a=\"hello\""
   ]
  },
  {
   "cell_type": "code",
   "execution_count": 62,
   "id": "64f2bba1",
   "metadata": {},
   "outputs": [
    {
     "ename": "TypeError",
     "evalue": "count() takes at least 1 argument (0 given)",
     "output_type": "error",
     "traceback": [
      "\u001b[1;31m---------------------------------------------------------------------------\u001b[0m",
      "\u001b[1;31mTypeError\u001b[0m                                 Traceback (most recent call last)",
      "\u001b[1;32m<ipython-input-62-f11c6a8bc4f8>\u001b[0m in \u001b[0;36m<module>\u001b[1;34m\u001b[0m\n\u001b[1;32m----> 1\u001b[1;33m \u001b[0ma\u001b[0m\u001b[1;33m.\u001b[0m\u001b[0mcount\u001b[0m\u001b[1;33m(\u001b[0m\u001b[1;33m)\u001b[0m\u001b[1;33m\u001b[0m\u001b[1;33m\u001b[0m\u001b[0m\n\u001b[0m",
      "\u001b[1;31mTypeError\u001b[0m: count() takes at least 1 argument (0 given)"
     ]
    }
   ],
   "source": [
    "a.count()"
   ]
  },
  {
   "cell_type": "markdown",
   "id": "7bb2c4b1",
   "metadata": {},
   "source": [
    "python oject 다루기 예제"
   ]
  },
  {
   "cell_type": "code",
   "execution_count": 63,
   "id": "583f7faf",
   "metadata": {},
   "outputs": [
    {
     "data": {
      "text/plain": [
       "0"
      ]
     },
     "execution_count": 63,
     "metadata": {},
     "output_type": "execute_result"
    }
   ],
   "source": [
    "a.count('a')"
   ]
  },
  {
   "cell_type": "code",
   "execution_count": 64,
   "id": "42b62ccf",
   "metadata": {},
   "outputs": [
    {
     "data": {
      "text/plain": [
       "2"
      ]
     },
     "execution_count": 64,
     "metadata": {},
     "output_type": "execute_result"
    }
   ],
   "source": [
    "a.count('l')"
   ]
  },
  {
   "cell_type": "markdown",
   "id": "0c697fba",
   "metadata": {},
   "source": [
    "문자열 찾기"
   ]
  },
  {
   "cell_type": "code",
   "execution_count": 65,
   "id": "f73023d6",
   "metadata": {},
   "outputs": [
    {
     "data": {
      "text/plain": [
       "0"
      ]
     },
     "execution_count": 65,
     "metadata": {},
     "output_type": "execute_result"
    }
   ],
   "source": [
    "a.find('h')"
   ]
  },
  {
   "cell_type": "code",
   "execution_count": 66,
   "id": "a00287ba",
   "metadata": {},
   "outputs": [
    {
     "data": {
      "text/plain": [
       "4"
      ]
     },
     "execution_count": 66,
     "metadata": {},
     "output_type": "execute_result"
    }
   ],
   "source": [
    "a.find('o')"
   ]
  },
  {
   "cell_type": "code",
   "execution_count": 68,
   "id": "4ac68770",
   "metadata": {},
   "outputs": [
    {
     "data": {
      "text/plain": [
       "'!'"
      ]
     },
     "execution_count": 68,
     "metadata": {},
     "output_type": "execute_result"
    }
   ],
   "source": [
    "a.join('!')"
   ]
  },
  {
   "cell_type": "code",
   "execution_count": 69,
   "id": "a0761c6a",
   "metadata": {},
   "outputs": [
    {
     "data": {
      "text/plain": [
       "'hello'"
      ]
     },
     "execution_count": 69,
     "metadata": {},
     "output_type": "execute_result"
    }
   ],
   "source": [
    "a"
   ]
  },
  {
   "cell_type": "code",
   "execution_count": null,
   "id": "163c99e3",
   "metadata": {},
   "outputs": [],
   "source": []
  }
 ],
 "metadata": {
  "kernelspec": {
   "display_name": "Python 3",
   "language": "python",
   "name": "python3"
  },
  "language_info": {
   "codemirror_mode": {
    "name": "ipython",
    "version": 3
   },
   "file_extension": ".py",
   "mimetype": "text/x-python",
   "name": "python",
   "nbconvert_exporter": "python",
   "pygments_lexer": "ipython3",
   "version": "3.8.8"
  }
 },
 "nbformat": 4,
 "nbformat_minor": 5
}
