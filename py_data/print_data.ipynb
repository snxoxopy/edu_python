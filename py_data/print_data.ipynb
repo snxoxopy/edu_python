{
 "cells": [
  {
   "cell_type": "code",
   "execution_count": 3,
   "id": "a3553609",
   "metadata": {},
   "outputs": [],
   "source": [
    "odd = [1,2,3,4.5,\"Hello\"]"
   ]
  },
  {
   "cell_type": "code",
   "execution_count": 4,
   "id": "0288cb7a",
   "metadata": {},
   "outputs": [
    {
     "data": {
      "text/plain": [
       "[1, 2, 3, 4.5, 'Hello']"
      ]
     },
     "execution_count": 4,
     "metadata": {},
     "output_type": "execute_result"
    }
   ],
   "source": [
    "odd"
   ]
  },
  {
   "cell_type": "code",
   "execution_count": 5,
   "id": "3ba90dac",
   "metadata": {},
   "outputs": [],
   "source": [
    "str = \"Life is too short You need python\""
   ]
  },
  {
   "cell_type": "code",
   "execution_count": 6,
   "id": "9efda80d",
   "metadata": {},
   "outputs": [],
   "source": [
    "str = \"Life is too short \\n You need python\""
   ]
  },
  {
   "cell_type": "code",
   "execution_count": 7,
   "id": "dff1c31c",
   "metadata": {},
   "outputs": [
    {
     "data": {
      "text/plain": [
       "'Life is too short \\n You need python'"
      ]
     },
     "execution_count": 7,
     "metadata": {},
     "output_type": "execute_result"
    }
   ],
   "source": [
    "str"
   ]
  },
  {
   "cell_type": "code",
   "execution_count": 8,
   "id": "8fe2374b",
   "metadata": {},
   "outputs": [
    {
     "name": "stdout",
     "output_type": "stream",
     "text": [
      "Life is too short \n",
      " You need python\n"
     ]
    }
   ],
   "source": [
    "print(str) #web browser에 맞게 출력됨"
   ]
  },
  {
   "cell_type": "code",
   "execution_count": 9,
   "id": "4f80174b",
   "metadata": {},
   "outputs": [],
   "source": [
    "str = \"\"\"Life is too short\n",
    "You need python\"\"\""
   ]
  },
  {
   "cell_type": "code",
   "execution_count": 10,
   "id": "2ef3de0b",
   "metadata": {},
   "outputs": [
    {
     "name": "stdout",
     "output_type": "stream",
     "text": [
      "Life is too short\n",
      "You need python\n"
     ]
    }
   ],
   "source": [
    "print(str)"
   ]
  },
  {
   "cell_type": "code",
   "execution_count": null,
   "id": "69fd6e04",
   "metadata": {},
   "outputs": [],
   "source": []
  }
 ],
 "metadata": {
  "kernelspec": {
   "display_name": "Python 3",
   "language": "python",
   "name": "python3"
  },
  "language_info": {
   "codemirror_mode": {
    "name": "ipython",
    "version": 3
   },
   "file_extension": ".py",
   "mimetype": "text/x-python",
   "name": "python",
   "nbconvert_exporter": "python",
   "pygments_lexer": "ipython3",
   "version": "3.8.8"
  }
 },
 "nbformat": 4,
 "nbformat_minor": 5
}
